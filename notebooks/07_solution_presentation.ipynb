{
 "cells": [
  {
   "cell_type": "markdown",
   "metadata": {
    "vscode": {
     "languageId": "plaintext"
    }
   },
   "source": [
    "- **1. Problem Framing:** Defined the business objective, how our solution will be used and performance measurement and the minimum."
   ]
  },
  {
   "cell_type": "markdown",
   "metadata": {},
   "source": [
    "- **2. Data Collection:** Listed data and how much we need, check legal obligation and authorization and we load and sample the data. "
   ]
  },
  {
   "cell_type": "markdown",
   "metadata": {},
   "source": [
    "- **3. Data Exploration:** Explored basic infos about the data and Advanced Analysis(Univariate,Bivariate,Multivariate), Outliers Detection, Correlations and Time Series analysis, ..."
   ]
  },
  {
   "cell_type": "markdown",
   "metadata": {},
   "source": [
    "- **4. Data Processing:** Performs cleaning data, feature engineering, scaling numerical features and transforming categorical ones, created **Data Pipeline** and store it with all other pipelines."
   ]
  },
  {
   "cell_type": "markdown",
   "metadata": {},
   "source": [
    "- **5. Shortlist Promising Models:** With the assumptions from the previous sections, we trained many ml models (simple and complex) and select top most promising models which make different types of errors and we store them."
   ]
  },
  {
   "cell_type": "markdown",
   "metadata": {},
   "source": [
    "- **6. Fine-Tuning the System:** Fine-tuned the selected models form previous section and then using ensemble learning methods (hard voting, stacking) so we get an amazing models while the stacking model were better and we store them both also, then test its generalization using the test set."
   ]
  }
 ],
 "metadata": {
  "kernelspec": {
   "display_name": "",
   "name": ""
  },
  "language_info": {
   "name": "python"
  }
 },
 "nbformat": 4,
 "nbformat_minor": 4
}
