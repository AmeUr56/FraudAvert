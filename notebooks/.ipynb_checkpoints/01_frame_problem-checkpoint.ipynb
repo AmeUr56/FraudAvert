{
 "cells": [
  {
   "cell_type": "markdown",
   "metadata": {},
   "source": [
    "## Defining the objective in business terms:"
   ]
  },
  {
   "cell_type": "markdown",
   "metadata": {},
   "source": [
    "The objective of this project is to **develop a machine learning model** that enables businesses to automatically identify and **prevent fraudulent financial transactions**. By leveraging synthetic data to simulate real-world fraud scenarios, the model aims to:\n",
    "\n",
    "- **Reduce financial losses** caused by fraud by quickly detecting fraudulent activities.\n",
    "- **Improve operational efficiency** by automating fraud detection processes, allowing businesses to focus on legitimate transactions.\n",
    "- **Enhance customer trust** by ensuring secure and reliable transactions, which can result in better customer retention and brand reputation.\n",
    "- **Minimize false positives**, reducing the number of legitimate transactions wrongly flagged as fraud, thus avoiding customer dissatisfaction and unnecessary manual reviews.\n",
    "\n",
    "This solution will help businesses protect their assets, reduce fraud-related risks, and ensure smoother financial operations."
   ]
  },
  {
   "cell_type": "markdown",
   "metadata": {},
   "source": [
    "## How will your solution be used?"
   ]
  },
  {
   "cell_type": "markdown",
   "metadata": {},
   "source": [
    "The model will be integrated into **financial transaction systems** to automatically detect fraudulent transactions in real-time. It will flag suspicious transactions, generate alerts for further review, and provide detailed reporting on fraud patterns. The system can be continuously updated with new data to improve accuracy and can be customized to fit different businesses’ needs."
   ]
  },
  {
   "cell_type": "markdown",
   "metadata": {},
   "source": [
    "## What are the current solutions/workarounds (if any)?"
   ]
  },
  {
   "cell_type": "markdown",
   "metadata": {},
   "source": [
    "- **Rule-Based Systems**: Predefined rules to flag suspicious transactions, but they often result in false positives.\n",
    "- **Traditional ML Models**: Used for fraud detection, but struggle with imbalanced data and limited fraud examples.\n",
    "- **Manual Reviews**: Time-consuming process for reviewing flagged transactions.\n",
    "- **Anomaly Detection**: Detects outliers in transaction data but may miss complex fraud patterns."
   ]
  },
  {
   "cell_type": "markdown",
   "metadata": {},
   "source": [
    "## How should you frame this problem (supervised/unsupervised, online/offline,etc.)?"
   ]
  },
  {
   "cell_type": "markdown",
   "metadata": {},
   "source": [
    "- **Supervised Learning**: Using labeled data to classify transactions as fraudulent or non-fraudulent.\n",
    "- **Offline Learning**: Train the model on historical data, then deploy it for real-time use.\n",
    "- **Online Inference**: Perform real-time fraud detection as new transactions come in."
   ]
  },
  {
   "cell_type": "markdown",
   "metadata": {},
   "source": [
    "## How should performance be measured?"
   ]
  },
  {
   "cell_type": "markdown",
   "metadata": {},
   "source": [
    "- **Accuracy**: Proportion of correct predictions (fraudulent and non-fraudulent) out of all predictions.\n",
    "- **Precision**: The percentage of flagged fraudulent transactions that are actually fraudulent.\n",
    "- **Recall**: The percentage of actual fraudulent transactions correctly identified by the model.\n",
    "- **F1-Score**: The harmonic mean of precision and recall, balancing false positives and false negatives.\n",
    "- **AUC-ROC Curve**: Measures the model's ability to distinguish between classes across different thresholds.\n",
    "- **Confusion Matrix**: Visualizes the number of true positives, false positives, true negatives, and false negatives."
   ]
  },
  {
   "cell_type": "markdown",
   "metadata": {},
   "source": [
    "## Is the performance measure aligned with the business objective?"
   ]
  },
  {
   "cell_type": "markdown",
   "metadata": {},
   "source": [
    "Yes, the performance measures are aligned with the business objective of accurately **detecting fraudulent transactions** while **minimizing risks and costs**:\n",
    "\n",
    "- **Accuracy**: Ensures the model correctly classifies transactions, directly impacting fraud detection effectiveness.\n",
    "- **Precision**: Helps reduce false positives, preventing legitimate transactions from being wrongly flagged, which could lead to customer dissatisfaction and unnecessary investigations.\n",
    "- **Recall**: Focuses on detecting as many fraudulent transactions as possible, minimizing financial losses from undetected fraud.\n",
    "- **F1-Score**: Balances precision and recall, ensuring that the model performs well in both detecting fraud and avoiding false positives.\n",
    "- **AUC-ROC Curve**: Measures the model's overall ability to distinguish between fraudulent and legitimate transactions, ensuring it performs well in real-world applications with varying thresholds."
   ]
  },
  {
   "cell_type": "markdown",
   "metadata": {},
   "source": [
    "## What would be the minimum performance needed to reach the business objective?"
   ]
  },
  {
   "cell_type": "markdown",
   "metadata": {},
   "source": [
    "To meet the business objective of effectively detecting fraudulent transactions and minimizing operational risks, the following minimum performance thresholds are recommended:\n",
    "\n",
    "- **Precision**: At least 90% to reduce false positives and avoid wrongly flagging legitimate transactions.\n",
    "- **Recall**: At least 85% to ensure most fraudulent transactions are detected.\n",
    "- **F1-Score**: At least 0.85 to balance precision and recall, ensuring the model maintains good detection capability while minimizing false positives.\n",
    "- **AUC-ROC**: A minimum of 0.90 to ensure the model has a high ability to distinguish between fraudulent and non-fraudulent transactions."
   ]
  },
  {
   "cell_type": "markdown",
   "metadata": {},
   "source": [
    "## What are comparable problems? Can you reuse experience or tools? "
   ]
  },
  {
   "cell_type": "markdown",
   "metadata": {},
   "source": [
    "### Comparable Problems\n",
    "- Credit Card Fraud Detection\n",
    "- Insurance Fraud Detection\n",
    "- E-commerce Fraud Detection\n",
    "- Banking Fraud Detection"
   ]
  },
  {
   "cell_type": "markdown",
   "metadata": {},
   "source": [
    "### Reusing Experience and Tools\n",
    "- **ML Algorithms**: Random Forest, XGBoost, SVC.\n",
    "- **Preprocessing**: Resampling, normalization, anomaly detection.\n",
    "- **Evaluation Metrics**: Precision, Recall, F1-Score, AUC-ROC."
   ]
  },
  {
   "cell_type": "markdown",
   "metadata": {},
   "source": [
    "## Is human expertise available?"
   ]
  },
  {
   "cell_type": "markdown",
   "metadata": {},
   "source": [
    "Yes, **Financial Experts** for domain knowledge and data labeling."
   ]
  },
  {
   "cell_type": "markdown",
   "metadata": {},
   "source": [
    "## How would you solve the problem manually?"
   ]
  },
  {
   "cell_type": "markdown",
   "metadata": {},
   "source": [
    "- **Data Collection**: Manually gather transaction data, identifying characteristics of fraudulent and non-fraudulent transactions.\n",
    "- **Rule-Based Filtering**: Create simple rules (e.g., large transaction amounts, unusual locations) to flag suspicious transactions.\n",
    "- **Manual Review**: Review flagged transactions manually, investigating patterns and marking them as fraudulent or legitimate.\n",
    "- **Pattern Recognition**: Identify common traits or behaviors in fraudulent transactions and apply them to future transactions for flagging.\n",
    "- **Reporting**: Manually document and report the findings for further business action."
   ]
  },
  {
   "cell_type": "markdown",
   "metadata": {},
   "source": [
    "## List the assumptions you (or others) have made so far."
   ]
  },
  {
   "cell_type": "markdown",
   "metadata": {},
   "source": [
    "- Good amount of Data is available.\n",
    "- Data can be imbalanced cause of different types of transactions.\n",
    "- Features provide good predictive of fraud."
   ]
  }
 ],
 "metadata": {
  "language_info": {
   "name": "python"
  }
 },
 "nbformat": 4,
 "nbformat_minor": 2
}
