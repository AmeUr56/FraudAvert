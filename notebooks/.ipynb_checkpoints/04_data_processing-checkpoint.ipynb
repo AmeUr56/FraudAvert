{
 "cells": [
  {
   "cell_type": "code",
   "execution_count": 1,
   "metadata": {
    "vscode": {
     "languageId": "plaintext"
    }
   },
   "outputs": [],
   "source": [
    "import numpy as np\n",
    "import pandas as pd"
   ]
  },
  {
   "cell_type": "markdown",
   "metadata": {
    "jp-MarkdownHeadingCollapsed": true
   },
   "source": [
    "## Load Data"
   ]
  },
  {
   "cell_type": "code",
   "execution_count": 2,
   "metadata": {},
   "outputs": [
    {
     "data": {
      "text/html": [
       "<div>\n",
       "<style scoped>\n",
       "    .dataframe tbody tr th:only-of-type {\n",
       "        vertical-align: middle;\n",
       "    }\n",
       "\n",
       "    .dataframe tbody tr th {\n",
       "        vertical-align: top;\n",
       "    }\n",
       "\n",
       "    .dataframe thead th {\n",
       "        text-align: right;\n",
       "    }\n",
       "</style>\n",
       "<table border=\"1\" class=\"dataframe\">\n",
       "  <thead>\n",
       "    <tr style=\"text-align: right;\">\n",
       "      <th></th>\n",
       "      <th>MonthlyHour</th>\n",
       "      <th>Type</th>\n",
       "      <th>Amount</th>\n",
       "      <th>SenderBalance</th>\n",
       "      <th>ReceiverBalance</th>\n",
       "      <th>isFraud</th>\n",
       "    </tr>\n",
       "  </thead>\n",
       "  <tbody>\n",
       "    <tr>\n",
       "      <th>0</th>\n",
       "      <td>18</td>\n",
       "      <td>TRANSFER</td>\n",
       "      <td>185179.51</td>\n",
       "      <td>0.00</td>\n",
       "      <td>666160.16</td>\n",
       "      <td>0</td>\n",
       "    </tr>\n",
       "    <tr>\n",
       "      <th>1</th>\n",
       "      <td>185</td>\n",
       "      <td>DEBIT</td>\n",
       "      <td>18996.03</td>\n",
       "      <td>534.00</td>\n",
       "      <td>218943.42</td>\n",
       "      <td>0</td>\n",
       "    </tr>\n",
       "    <tr>\n",
       "      <th>2</th>\n",
       "      <td>306</td>\n",
       "      <td>PAYMENT</td>\n",
       "      <td>1249.91</td>\n",
       "      <td>101240.78</td>\n",
       "      <td>0.00</td>\n",
       "      <td>0</td>\n",
       "    </tr>\n",
       "    <tr>\n",
       "      <th>3</th>\n",
       "      <td>227</td>\n",
       "      <td>CASH_OUT</td>\n",
       "      <td>80870.17</td>\n",
       "      <td>0.00</td>\n",
       "      <td>98974.08</td>\n",
       "      <td>0</td>\n",
       "    </tr>\n",
       "    <tr>\n",
       "      <th>4</th>\n",
       "      <td>34</td>\n",
       "      <td>CASH_OUT</td>\n",
       "      <td>30917.39</td>\n",
       "      <td>30917.39</td>\n",
       "      <td>339926.42</td>\n",
       "      <td>1</td>\n",
       "    </tr>\n",
       "  </tbody>\n",
       "</table>\n",
       "</div>"
      ],
      "text/plain": [
       "   MonthlyHour      Type     Amount  SenderBalance  ReceiverBalance  isFraud\n",
       "0           18  TRANSFER  185179.51           0.00        666160.16        0\n",
       "1          185     DEBIT   18996.03         534.00        218943.42        0\n",
       "2          306   PAYMENT    1249.91      101240.78             0.00        0\n",
       "3          227  CASH_OUT   80870.17           0.00         98974.08        0\n",
       "4           34  CASH_OUT   30917.39       30917.39        339926.42        1"
      ]
     },
     "execution_count": 2,
     "metadata": {},
     "output_type": "execute_result"
    }
   ],
   "source": [
    "train_data = pd.read_csv(\"../data/train_data.csv\")\n",
    "train_data.head()"
   ]
  },
  {
   "cell_type": "code",
   "execution_count": 3,
   "metadata": {},
   "outputs": [],
   "source": [
    "X,y = train_data.drop(\"isFraud\",axis=1),train_data.isFraud"
   ]
  },
  {
   "cell_type": "markdown",
   "metadata": {
    "jp-MarkdownHeadingCollapsed": true
   },
   "source": [
    "## Clean Data"
   ]
  },
  {
   "cell_type": "markdown",
   "metadata": {},
   "source": [
    "Data is already cleaned, but **Cleaning Pipeline** is necessary. "
   ]
  },
  {
   "cell_type": "code",
   "execution_count": 4,
   "metadata": {},
   "outputs": [],
   "source": [
    "from sklearn.impute import SimpleImputer"
   ]
  },
  {
   "cell_type": "code",
   "execution_count": 5,
   "metadata": {},
   "outputs": [],
   "source": [
    "# Fill Monthly Hour and Type with Mode\n",
    "mode_imputer = SimpleImputer(strategy=\"most_frequent\")\n",
    "#mode_imputer.fit(X[[\"MonthlyHour\",\"Type\"]].values.reshape((-1,1)))"
   ]
  },
  {
   "cell_type": "code",
   "execution_count": 6,
   "metadata": {},
   "outputs": [],
   "source": [
    "# Fill Amount, Sender Balance and Receiver Balance with Mean\n",
    "money_imputer = SimpleImputer(strategy=\"mean\")\n",
    "#money_imputer.fit(X[[\"Amount\",\"SenderBalance\",\"ReceiverBalance\"]])"
   ]
  },
  {
   "cell_type": "markdown",
   "metadata": {
    "jp-MarkdownHeadingCollapsed": true
   },
   "source": [
    "## Feature Engineering"
   ]
  },
  {
   "cell_type": "code",
   "execution_count": 35,
   "metadata": {},
   "outputs": [],
   "source": [
    "from sklearn.base import BaseEstimator, TransformerMixin\n",
    "\n",
    "class FeatureEngineeringTransformer(BaseEstimator, TransformerMixin):\n",
    "    def __init__(self):\n",
    "        pass\n",
    "\n",
    "    def fit(self, X, y=None):\n",
    "        return self\n",
    "\n",
    "    def transform(self, X):\n",
    "        eps = 1e-8\n",
    "        if isinstance(X, pd.DataFrame):\n",
    "            data = X.copy()\n",
    "        else:\n",
    "            data = pd.DataFrame(X)\n",
    "            data.columns = ['MonthlyHour', 'Type', 'Amount', 'SenderBalance', 'ReceiverBalance']\n",
    "        \n",
    "        data['Hour'] = data['MonthlyHour'] % 24\n",
    "        data['Day'] = (data['MonthlyHour'] // 24) % 30\n",
    "        data['InWeekend'] = data['Day'].isin([5, 6, 12, 13, 19, 20, 26, 27])\n",
    "        data['AmountCategory'] = pd.cut(data['Amount'], bins=[-1, 100, 1000, 10_000, 100_000, np.inf], labels=['Small', 'Medium', 'Large', 'Very Large', 'Extreme Large'])\n",
    "        data['IsHighAmount'] = data['Amount'] > data['Amount'].quantile(0.99)\n",
    "        data['BalanceDiff'] = data['SenderBalance'] - data['ReceiverBalance']\n",
    "        \n",
    "        return data\n",
    "\n",
    "feature_engineering = FeatureEngineeringTransformer()\n",
    "dump(feature_engineering,\"../pipelines/feature_engineering.joblib\")\n",
    "X_engineered = feature_engineering.transform(X)"
   ]
  },
  {
   "cell_type": "code",
   "execution_count": 8,
   "metadata": {},
   "outputs": [
    {
     "data": {
      "text/html": [
       "<div>\n",
       "<style scoped>\n",
       "    .dataframe tbody tr th:only-of-type {\n",
       "        vertical-align: middle;\n",
       "    }\n",
       "\n",
       "    .dataframe tbody tr th {\n",
       "        vertical-align: top;\n",
       "    }\n",
       "\n",
       "    .dataframe thead th {\n",
       "        text-align: right;\n",
       "    }\n",
       "</style>\n",
       "<table border=\"1\" class=\"dataframe\">\n",
       "  <thead>\n",
       "    <tr style=\"text-align: right;\">\n",
       "      <th></th>\n",
       "      <th>MonthlyHour</th>\n",
       "      <th>Type</th>\n",
       "      <th>Amount</th>\n",
       "      <th>SenderBalance</th>\n",
       "      <th>ReceiverBalance</th>\n",
       "      <th>Hour</th>\n",
       "      <th>Day</th>\n",
       "      <th>InWeekend</th>\n",
       "      <th>AmountCategory</th>\n",
       "      <th>IsHighAmount</th>\n",
       "      <th>BalanceDiff</th>\n",
       "    </tr>\n",
       "  </thead>\n",
       "  <tbody>\n",
       "    <tr>\n",
       "      <th>0</th>\n",
       "      <td>18</td>\n",
       "      <td>TRANSFER</td>\n",
       "      <td>185179.51</td>\n",
       "      <td>0.00</td>\n",
       "      <td>666160.16</td>\n",
       "      <td>18</td>\n",
       "      <td>0</td>\n",
       "      <td>False</td>\n",
       "      <td>Extreme Large</td>\n",
       "      <td>False</td>\n",
       "      <td>-666160.16</td>\n",
       "    </tr>\n",
       "    <tr>\n",
       "      <th>1</th>\n",
       "      <td>185</td>\n",
       "      <td>DEBIT</td>\n",
       "      <td>18996.03</td>\n",
       "      <td>534.00</td>\n",
       "      <td>218943.42</td>\n",
       "      <td>17</td>\n",
       "      <td>7</td>\n",
       "      <td>False</td>\n",
       "      <td>Very Large</td>\n",
       "      <td>False</td>\n",
       "      <td>-218409.42</td>\n",
       "    </tr>\n",
       "    <tr>\n",
       "      <th>2</th>\n",
       "      <td>306</td>\n",
       "      <td>PAYMENT</td>\n",
       "      <td>1249.91</td>\n",
       "      <td>101240.78</td>\n",
       "      <td>0.00</td>\n",
       "      <td>18</td>\n",
       "      <td>12</td>\n",
       "      <td>True</td>\n",
       "      <td>Large</td>\n",
       "      <td>False</td>\n",
       "      <td>101240.78</td>\n",
       "    </tr>\n",
       "    <tr>\n",
       "      <th>3</th>\n",
       "      <td>227</td>\n",
       "      <td>CASH_OUT</td>\n",
       "      <td>80870.17</td>\n",
       "      <td>0.00</td>\n",
       "      <td>98974.08</td>\n",
       "      <td>11</td>\n",
       "      <td>9</td>\n",
       "      <td>False</td>\n",
       "      <td>Very Large</td>\n",
       "      <td>False</td>\n",
       "      <td>-98974.08</td>\n",
       "    </tr>\n",
       "    <tr>\n",
       "      <th>4</th>\n",
       "      <td>34</td>\n",
       "      <td>CASH_OUT</td>\n",
       "      <td>30917.39</td>\n",
       "      <td>30917.39</td>\n",
       "      <td>339926.42</td>\n",
       "      <td>10</td>\n",
       "      <td>1</td>\n",
       "      <td>False</td>\n",
       "      <td>Very Large</td>\n",
       "      <td>False</td>\n",
       "      <td>-309009.03</td>\n",
       "    </tr>\n",
       "  </tbody>\n",
       "</table>\n",
       "</div>"
      ],
      "text/plain": [
       "   MonthlyHour      Type     Amount  SenderBalance  ReceiverBalance  Hour  \\\n",
       "0           18  TRANSFER  185179.51           0.00        666160.16    18   \n",
       "1          185     DEBIT   18996.03         534.00        218943.42    17   \n",
       "2          306   PAYMENT    1249.91      101240.78             0.00    18   \n",
       "3          227  CASH_OUT   80870.17           0.00         98974.08    11   \n",
       "4           34  CASH_OUT   30917.39       30917.39        339926.42    10   \n",
       "\n",
       "   Day  InWeekend AmountCategory  IsHighAmount  BalanceDiff  \n",
       "0    0      False  Extreme Large         False   -666160.16  \n",
       "1    7      False     Very Large         False   -218409.42  \n",
       "2   12       True          Large         False    101240.78  \n",
       "3    9      False     Very Large         False    -98974.08  \n",
       "4    1      False     Very Large         False   -309009.03  "
      ]
     },
     "execution_count": 8,
     "metadata": {},
     "output_type": "execute_result"
    }
   ],
   "source": [
    "X_engineered.head()"
   ]
  },
  {
   "cell_type": "markdown",
   "metadata": {
    "jp-MarkdownHeadingCollapsed": true
   },
   "source": [
    "## Feature Scaling"
   ]
  },
  {
   "cell_type": "code",
   "execution_count": 9,
   "metadata": {},
   "outputs": [],
   "source": [
    "from sklearn.preprocessing import StandardScaler"
   ]
  },
  {
   "cell_type": "code",
   "execution_count": 10,
   "metadata": {},
   "outputs": [],
   "source": [
    "scaler = StandardScaler()\n",
    "#scaler.fit(X_engineered.select_dtypes(np.number))"
   ]
  },
  {
   "cell_type": "markdown",
   "metadata": {
    "jp-MarkdownHeadingCollapsed": true
   },
   "source": [
    "## Transform Categorical Features"
   ]
  },
  {
   "cell_type": "code",
   "execution_count": 11,
   "metadata": {},
   "outputs": [],
   "source": [
    "from sklearn.preprocessing import OneHotEncoder,OrdinalEncoder"
   ]
  },
  {
   "cell_type": "code",
   "execution_count": 12,
   "metadata": {},
   "outputs": [],
   "source": [
    "one_hot_enc = OneHotEncoder()\n",
    "#one_hot_enc.fit(X_engineered[\"Type\"].values.reshape((-1,1)))"
   ]
  },
  {
   "cell_type": "code",
   "execution_count": 13,
   "metadata": {},
   "outputs": [],
   "source": [
    "custom_categories = [\n",
    "    [False, True],  # For InWeekend\n",
    "    [False, True],  # For IsHighAmount\n",
    "    ['Small', 'Medium', 'Large', 'Very Large', 'Extreme Large']  # For AmountCategory\n",
    "]\n",
    "ord_enc = OrdinalEncoder(categories=custom_categories)\n",
    "#ord_enc.fit(X_engineered[[\"InWeekend\",\"IsHighAmount\",\"AmountCategory\"]])"
   ]
  },
  {
   "cell_type": "markdown",
   "metadata": {},
   "source": [
    "## Build Full Pipeline"
   ]
  },
  {
   "cell_type": "code",
   "execution_count": 58,
   "metadata": {},
   "outputs": [],
   "source": [
    "from joblib import dump\n",
    "import cloudpickle\n",
    "\n",
    "from sklearn.pipeline import Pipeline\n",
    "from sklearn.compose import ColumnTransformer\n",
    "from sklearn.preprocessing import FunctionTransformer"
   ]
  },
  {
   "cell_type": "code",
   "execution_count": 31,
   "metadata": {},
   "outputs": [
    {
     "data": {
      "text/html": [
       "<style>#sk-container-id-4 {color: black;}#sk-container-id-4 pre{padding: 0;}#sk-container-id-4 div.sk-toggleable {background-color: white;}#sk-container-id-4 label.sk-toggleable__label {cursor: pointer;display: block;width: 100%;margin-bottom: 0;padding: 0.3em;box-sizing: border-box;text-align: center;}#sk-container-id-4 label.sk-toggleable__label-arrow:before {content: \"▸\";float: left;margin-right: 0.25em;color: #696969;}#sk-container-id-4 label.sk-toggleable__label-arrow:hover:before {color: black;}#sk-container-id-4 div.sk-estimator:hover label.sk-toggleable__label-arrow:before {color: black;}#sk-container-id-4 div.sk-toggleable__content {max-height: 0;max-width: 0;overflow: hidden;text-align: left;background-color: #f0f8ff;}#sk-container-id-4 div.sk-toggleable__content pre {margin: 0.2em;color: black;border-radius: 0.25em;background-color: #f0f8ff;}#sk-container-id-4 input.sk-toggleable__control:checked~div.sk-toggleable__content {max-height: 200px;max-width: 100%;overflow: auto;}#sk-container-id-4 input.sk-toggleable__control:checked~label.sk-toggleable__label-arrow:before {content: \"▾\";}#sk-container-id-4 div.sk-estimator input.sk-toggleable__control:checked~label.sk-toggleable__label {background-color: #d4ebff;}#sk-container-id-4 div.sk-label input.sk-toggleable__control:checked~label.sk-toggleable__label {background-color: #d4ebff;}#sk-container-id-4 input.sk-hidden--visually {border: 0;clip: rect(1px 1px 1px 1px);clip: rect(1px, 1px, 1px, 1px);height: 1px;margin: -1px;overflow: hidden;padding: 0;position: absolute;width: 1px;}#sk-container-id-4 div.sk-estimator {font-family: monospace;background-color: #f0f8ff;border: 1px dotted black;border-radius: 0.25em;box-sizing: border-box;margin-bottom: 0.5em;}#sk-container-id-4 div.sk-estimator:hover {background-color: #d4ebff;}#sk-container-id-4 div.sk-parallel-item::after {content: \"\";width: 100%;border-bottom: 1px solid gray;flex-grow: 1;}#sk-container-id-4 div.sk-label:hover label.sk-toggleable__label {background-color: #d4ebff;}#sk-container-id-4 div.sk-serial::before {content: \"\";position: absolute;border-left: 1px solid gray;box-sizing: border-box;top: 0;bottom: 0;left: 50%;z-index: 0;}#sk-container-id-4 div.sk-serial {display: flex;flex-direction: column;align-items: center;background-color: white;padding-right: 0.2em;padding-left: 0.2em;position: relative;}#sk-container-id-4 div.sk-item {position: relative;z-index: 1;}#sk-container-id-4 div.sk-parallel {display: flex;align-items: stretch;justify-content: center;background-color: white;position: relative;}#sk-container-id-4 div.sk-item::before, #sk-container-id-4 div.sk-parallel-item::before {content: \"\";position: absolute;border-left: 1px solid gray;box-sizing: border-box;top: 0;bottom: 0;left: 50%;z-index: -1;}#sk-container-id-4 div.sk-parallel-item {display: flex;flex-direction: column;z-index: 1;position: relative;background-color: white;}#sk-container-id-4 div.sk-parallel-item:first-child::after {align-self: flex-end;width: 50%;}#sk-container-id-4 div.sk-parallel-item:last-child::after {align-self: flex-start;width: 50%;}#sk-container-id-4 div.sk-parallel-item:only-child::after {width: 0;}#sk-container-id-4 div.sk-dashed-wrapped {border: 1px dashed gray;margin: 0 0.4em 0.5em 0.4em;box-sizing: border-box;padding-bottom: 0.4em;background-color: white;}#sk-container-id-4 div.sk-label label {font-family: monospace;font-weight: bold;display: inline-block;line-height: 1.2em;}#sk-container-id-4 div.sk-label-container {text-align: center;}#sk-container-id-4 div.sk-container {/* jupyter's `normalize.less` sets `[hidden] { display: none; }` but bootstrap.min.css set `[hidden] { display: none !important; }` so we also need the `!important` here to be able to override the default hidden behavior on the sphinx rendered scikit-learn.org. See: https://github.com/scikit-learn/scikit-learn/issues/21755 */display: inline-block !important;position: relative;}#sk-container-id-4 div.sk-text-repr-fallback {display: none;}</style><div id=\"sk-container-id-4\" class=\"sk-top-container\"><div class=\"sk-text-repr-fallback\"><pre>ColumnTransformer(remainder=&#x27;passthrough&#x27;,\n",
       "                  transformers=[(&#x27;mode_imputing&#x27;,\n",
       "                                 SimpleImputer(strategy=&#x27;most_frequent&#x27;),\n",
       "                                 [&#x27;MonthlyHour&#x27;, &#x27;Type&#x27;]),\n",
       "                                (&#x27;mean_imputing&#x27;, SimpleImputer(),\n",
       "                                 [&#x27;Amount&#x27;, &#x27;SenderBalance&#x27;,\n",
       "                                  &#x27;ReceiverBalance&#x27;])])</pre><b>In a Jupyter environment, please rerun this cell to show the HTML representation or trust the notebook. <br />On GitHub, the HTML representation is unable to render, please try loading this page with nbviewer.org.</b></div><div class=\"sk-container\" hidden><div class=\"sk-item sk-dashed-wrapped\"><div class=\"sk-label-container\"><div class=\"sk-label sk-toggleable\"><input class=\"sk-toggleable__control sk-hidden--visually\" id=\"sk-estimator-id-36\" type=\"checkbox\" ><label for=\"sk-estimator-id-36\" class=\"sk-toggleable__label sk-toggleable__label-arrow\">ColumnTransformer</label><div class=\"sk-toggleable__content\"><pre>ColumnTransformer(remainder=&#x27;passthrough&#x27;,\n",
       "                  transformers=[(&#x27;mode_imputing&#x27;,\n",
       "                                 SimpleImputer(strategy=&#x27;most_frequent&#x27;),\n",
       "                                 [&#x27;MonthlyHour&#x27;, &#x27;Type&#x27;]),\n",
       "                                (&#x27;mean_imputing&#x27;, SimpleImputer(),\n",
       "                                 [&#x27;Amount&#x27;, &#x27;SenderBalance&#x27;,\n",
       "                                  &#x27;ReceiverBalance&#x27;])])</pre></div></div></div><div class=\"sk-parallel\"><div class=\"sk-parallel-item\"><div class=\"sk-item\"><div class=\"sk-label-container\"><div class=\"sk-label sk-toggleable\"><input class=\"sk-toggleable__control sk-hidden--visually\" id=\"sk-estimator-id-37\" type=\"checkbox\" ><label for=\"sk-estimator-id-37\" class=\"sk-toggleable__label sk-toggleable__label-arrow\">mode_imputing</label><div class=\"sk-toggleable__content\"><pre>[&#x27;MonthlyHour&#x27;, &#x27;Type&#x27;]</pre></div></div></div><div class=\"sk-serial\"><div class=\"sk-item\"><div class=\"sk-estimator sk-toggleable\"><input class=\"sk-toggleable__control sk-hidden--visually\" id=\"sk-estimator-id-38\" type=\"checkbox\" ><label for=\"sk-estimator-id-38\" class=\"sk-toggleable__label sk-toggleable__label-arrow\">SimpleImputer</label><div class=\"sk-toggleable__content\"><pre>SimpleImputer(strategy=&#x27;most_frequent&#x27;)</pre></div></div></div></div></div></div><div class=\"sk-parallel-item\"><div class=\"sk-item\"><div class=\"sk-label-container\"><div class=\"sk-label sk-toggleable\"><input class=\"sk-toggleable__control sk-hidden--visually\" id=\"sk-estimator-id-39\" type=\"checkbox\" ><label for=\"sk-estimator-id-39\" class=\"sk-toggleable__label sk-toggleable__label-arrow\">mean_imputing</label><div class=\"sk-toggleable__content\"><pre>[&#x27;Amount&#x27;, &#x27;SenderBalance&#x27;, &#x27;ReceiverBalance&#x27;]</pre></div></div></div><div class=\"sk-serial\"><div class=\"sk-item\"><div class=\"sk-estimator sk-toggleable\"><input class=\"sk-toggleable__control sk-hidden--visually\" id=\"sk-estimator-id-40\" type=\"checkbox\" ><label for=\"sk-estimator-id-40\" class=\"sk-toggleable__label sk-toggleable__label-arrow\">SimpleImputer</label><div class=\"sk-toggleable__content\"><pre>SimpleImputer()</pre></div></div></div></div></div></div><div class=\"sk-parallel-item\"><div class=\"sk-item\"><div class=\"sk-label-container\"><div class=\"sk-label sk-toggleable\"><input class=\"sk-toggleable__control sk-hidden--visually\" id=\"sk-estimator-id-41\" type=\"checkbox\" ><label for=\"sk-estimator-id-41\" class=\"sk-toggleable__label sk-toggleable__label-arrow\">remainder</label><div class=\"sk-toggleable__content\"><pre></pre></div></div></div><div class=\"sk-serial\"><div class=\"sk-item\"><div class=\"sk-estimator sk-toggleable\"><input class=\"sk-toggleable__control sk-hidden--visually\" id=\"sk-estimator-id-42\" type=\"checkbox\" ><label for=\"sk-estimator-id-42\" class=\"sk-toggleable__label sk-toggleable__label-arrow\">passthrough</label><div class=\"sk-toggleable__content\"><pre>passthrough</pre></div></div></div></div></div></div></div></div></div></div>"
      ],
      "text/plain": [
       "ColumnTransformer(remainder='passthrough',\n",
       "                  transformers=[('mode_imputing',\n",
       "                                 SimpleImputer(strategy='most_frequent'),\n",
       "                                 ['MonthlyHour', 'Type']),\n",
       "                                ('mean_imputing', SimpleImputer(),\n",
       "                                 ['Amount', 'SenderBalance',\n",
       "                                  'ReceiverBalance'])])"
      ]
     },
     "execution_count": 31,
     "metadata": {},
     "output_type": "execute_result"
    }
   ],
   "source": [
    "cleaning_pipeline = ColumnTransformer(\n",
    "    transformers=[\n",
    "        (\"mode_imputing\", mode_imputer, [\"MonthlyHour\", \"Type\"]),\n",
    "        (\"mean_imputing\", money_imputer, [\"Amount\", \"SenderBalance\", \"ReceiverBalance\"]),\n",
    "    ],\n",
    "    remainder=\"passthrough\"\n",
    ")\n",
    "dump(transforming_pipeline, '../pipelines/cleaning_pipeline.joblib')\n",
    "\n",
    "cleaning_pipeline"
   ]
  },
  {
   "cell_type": "code",
   "execution_count": 16,
   "metadata": {},
   "outputs": [
    {
     "data": {
      "text/plain": [
       "array([[18, 'TRANSFER', 185179.51, 0.0, 666160.16],\n",
       "       [185, 'DEBIT', 18996.03, 534.0, 218943.42],\n",
       "       [306, 'PAYMENT', 1249.91, 101240.78, 0.0],\n",
       "       ...,\n",
       "       [490, 'CASH_OUT', 1048388.34, 1048388.34, 0.0],\n",
       "       [281, 'CASH_OUT', 54235.7, 54235.7, 0.0],\n",
       "       [605, 'CASH_OUT', 1555182.41, 1555182.41, 76405.76]], dtype=object)"
      ]
     },
     "execution_count": 16,
     "metadata": {},
     "output_type": "execute_result"
    }
   ],
   "source": [
    "cleaning_pipeline.fit_transform(X)"
   ]
  },
  {
   "cell_type": "code",
   "execution_count": 32,
   "metadata": {},
   "outputs": [
    {
     "data": {
      "text/html": [
       "<style>#sk-container-id-5 {color: black;}#sk-container-id-5 pre{padding: 0;}#sk-container-id-5 div.sk-toggleable {background-color: white;}#sk-container-id-5 label.sk-toggleable__label {cursor: pointer;display: block;width: 100%;margin-bottom: 0;padding: 0.3em;box-sizing: border-box;text-align: center;}#sk-container-id-5 label.sk-toggleable__label-arrow:before {content: \"▸\";float: left;margin-right: 0.25em;color: #696969;}#sk-container-id-5 label.sk-toggleable__label-arrow:hover:before {color: black;}#sk-container-id-5 div.sk-estimator:hover label.sk-toggleable__label-arrow:before {color: black;}#sk-container-id-5 div.sk-toggleable__content {max-height: 0;max-width: 0;overflow: hidden;text-align: left;background-color: #f0f8ff;}#sk-container-id-5 div.sk-toggleable__content pre {margin: 0.2em;color: black;border-radius: 0.25em;background-color: #f0f8ff;}#sk-container-id-5 input.sk-toggleable__control:checked~div.sk-toggleable__content {max-height: 200px;max-width: 100%;overflow: auto;}#sk-container-id-5 input.sk-toggleable__control:checked~label.sk-toggleable__label-arrow:before {content: \"▾\";}#sk-container-id-5 div.sk-estimator input.sk-toggleable__control:checked~label.sk-toggleable__label {background-color: #d4ebff;}#sk-container-id-5 div.sk-label input.sk-toggleable__control:checked~label.sk-toggleable__label {background-color: #d4ebff;}#sk-container-id-5 input.sk-hidden--visually {border: 0;clip: rect(1px 1px 1px 1px);clip: rect(1px, 1px, 1px, 1px);height: 1px;margin: -1px;overflow: hidden;padding: 0;position: absolute;width: 1px;}#sk-container-id-5 div.sk-estimator {font-family: monospace;background-color: #f0f8ff;border: 1px dotted black;border-radius: 0.25em;box-sizing: border-box;margin-bottom: 0.5em;}#sk-container-id-5 div.sk-estimator:hover {background-color: #d4ebff;}#sk-container-id-5 div.sk-parallel-item::after {content: \"\";width: 100%;border-bottom: 1px solid gray;flex-grow: 1;}#sk-container-id-5 div.sk-label:hover label.sk-toggleable__label {background-color: #d4ebff;}#sk-container-id-5 div.sk-serial::before {content: \"\";position: absolute;border-left: 1px solid gray;box-sizing: border-box;top: 0;bottom: 0;left: 50%;z-index: 0;}#sk-container-id-5 div.sk-serial {display: flex;flex-direction: column;align-items: center;background-color: white;padding-right: 0.2em;padding-left: 0.2em;position: relative;}#sk-container-id-5 div.sk-item {position: relative;z-index: 1;}#sk-container-id-5 div.sk-parallel {display: flex;align-items: stretch;justify-content: center;background-color: white;position: relative;}#sk-container-id-5 div.sk-item::before, #sk-container-id-5 div.sk-parallel-item::before {content: \"\";position: absolute;border-left: 1px solid gray;box-sizing: border-box;top: 0;bottom: 0;left: 50%;z-index: -1;}#sk-container-id-5 div.sk-parallel-item {display: flex;flex-direction: column;z-index: 1;position: relative;background-color: white;}#sk-container-id-5 div.sk-parallel-item:first-child::after {align-self: flex-end;width: 50%;}#sk-container-id-5 div.sk-parallel-item:last-child::after {align-self: flex-start;width: 50%;}#sk-container-id-5 div.sk-parallel-item:only-child::after {width: 0;}#sk-container-id-5 div.sk-dashed-wrapped {border: 1px dashed gray;margin: 0 0.4em 0.5em 0.4em;box-sizing: border-box;padding-bottom: 0.4em;background-color: white;}#sk-container-id-5 div.sk-label label {font-family: monospace;font-weight: bold;display: inline-block;line-height: 1.2em;}#sk-container-id-5 div.sk-label-container {text-align: center;}#sk-container-id-5 div.sk-container {/* jupyter's `normalize.less` sets `[hidden] { display: none; }` but bootstrap.min.css set `[hidden] { display: none !important; }` so we also need the `!important` here to be able to override the default hidden behavior on the sphinx rendered scikit-learn.org. See: https://github.com/scikit-learn/scikit-learn/issues/21755 */display: inline-block !important;position: relative;}#sk-container-id-5 div.sk-text-repr-fallback {display: none;}</style><div id=\"sk-container-id-5\" class=\"sk-top-container\"><div class=\"sk-text-repr-fallback\"><pre>ColumnTransformer(remainder=&#x27;passthrough&#x27;,\n",
       "                  transformers=[(&#x27;one_hot_enc&#x27;, OneHotEncoder(), [&#x27;Type&#x27;]),\n",
       "                                (&#x27;ordinal_enc&#x27;,\n",
       "                                 OrdinalEncoder(categories=[[False, True],\n",
       "                                                            [False, True],\n",
       "                                                            [&#x27;Small&#x27;, &#x27;Medium&#x27;,\n",
       "                                                             &#x27;Large&#x27;,\n",
       "                                                             &#x27;Very Large&#x27;,\n",
       "                                                             &#x27;Extreme Large&#x27;]]),\n",
       "                                 [&#x27;InWeekend&#x27;, &#x27;IsHighAmount&#x27;,\n",
       "                                  &#x27;AmountCategory&#x27;])])</pre><b>In a Jupyter environment, please rerun this cell to show the HTML representation or trust the notebook. <br />On GitHub, the HTML representation is unable to render, please try loading this page with nbviewer.org.</b></div><div class=\"sk-container\" hidden><div class=\"sk-item sk-dashed-wrapped\"><div class=\"sk-label-container\"><div class=\"sk-label sk-toggleable\"><input class=\"sk-toggleable__control sk-hidden--visually\" id=\"sk-estimator-id-43\" type=\"checkbox\" ><label for=\"sk-estimator-id-43\" class=\"sk-toggleable__label sk-toggleable__label-arrow\">ColumnTransformer</label><div class=\"sk-toggleable__content\"><pre>ColumnTransformer(remainder=&#x27;passthrough&#x27;,\n",
       "                  transformers=[(&#x27;one_hot_enc&#x27;, OneHotEncoder(), [&#x27;Type&#x27;]),\n",
       "                                (&#x27;ordinal_enc&#x27;,\n",
       "                                 OrdinalEncoder(categories=[[False, True],\n",
       "                                                            [False, True],\n",
       "                                                            [&#x27;Small&#x27;, &#x27;Medium&#x27;,\n",
       "                                                             &#x27;Large&#x27;,\n",
       "                                                             &#x27;Very Large&#x27;,\n",
       "                                                             &#x27;Extreme Large&#x27;]]),\n",
       "                                 [&#x27;InWeekend&#x27;, &#x27;IsHighAmount&#x27;,\n",
       "                                  &#x27;AmountCategory&#x27;])])</pre></div></div></div><div class=\"sk-parallel\"><div class=\"sk-parallel-item\"><div class=\"sk-item\"><div class=\"sk-label-container\"><div class=\"sk-label sk-toggleable\"><input class=\"sk-toggleable__control sk-hidden--visually\" id=\"sk-estimator-id-44\" type=\"checkbox\" ><label for=\"sk-estimator-id-44\" class=\"sk-toggleable__label sk-toggleable__label-arrow\">one_hot_enc</label><div class=\"sk-toggleable__content\"><pre>[&#x27;Type&#x27;]</pre></div></div></div><div class=\"sk-serial\"><div class=\"sk-item\"><div class=\"sk-estimator sk-toggleable\"><input class=\"sk-toggleable__control sk-hidden--visually\" id=\"sk-estimator-id-45\" type=\"checkbox\" ><label for=\"sk-estimator-id-45\" class=\"sk-toggleable__label sk-toggleable__label-arrow\">OneHotEncoder</label><div class=\"sk-toggleable__content\"><pre>OneHotEncoder()</pre></div></div></div></div></div></div><div class=\"sk-parallel-item\"><div class=\"sk-item\"><div class=\"sk-label-container\"><div class=\"sk-label sk-toggleable\"><input class=\"sk-toggleable__control sk-hidden--visually\" id=\"sk-estimator-id-46\" type=\"checkbox\" ><label for=\"sk-estimator-id-46\" class=\"sk-toggleable__label sk-toggleable__label-arrow\">ordinal_enc</label><div class=\"sk-toggleable__content\"><pre>[&#x27;InWeekend&#x27;, &#x27;IsHighAmount&#x27;, &#x27;AmountCategory&#x27;]</pre></div></div></div><div class=\"sk-serial\"><div class=\"sk-item\"><div class=\"sk-estimator sk-toggleable\"><input class=\"sk-toggleable__control sk-hidden--visually\" id=\"sk-estimator-id-47\" type=\"checkbox\" ><label for=\"sk-estimator-id-47\" class=\"sk-toggleable__label sk-toggleable__label-arrow\">OrdinalEncoder</label><div class=\"sk-toggleable__content\"><pre>OrdinalEncoder(categories=[[False, True], [False, True],\n",
       "                           [&#x27;Small&#x27;, &#x27;Medium&#x27;, &#x27;Large&#x27;, &#x27;Very Large&#x27;,\n",
       "                            &#x27;Extreme Large&#x27;]])</pre></div></div></div></div></div></div><div class=\"sk-parallel-item\"><div class=\"sk-item\"><div class=\"sk-label-container\"><div class=\"sk-label sk-toggleable\"><input class=\"sk-toggleable__control sk-hidden--visually\" id=\"sk-estimator-id-48\" type=\"checkbox\" ><label for=\"sk-estimator-id-48\" class=\"sk-toggleable__label sk-toggleable__label-arrow\">remainder</label><div class=\"sk-toggleable__content\"><pre></pre></div></div></div><div class=\"sk-serial\"><div class=\"sk-item\"><div class=\"sk-estimator sk-toggleable\"><input class=\"sk-toggleable__control sk-hidden--visually\" id=\"sk-estimator-id-49\" type=\"checkbox\" ><label for=\"sk-estimator-id-49\" class=\"sk-toggleable__label sk-toggleable__label-arrow\">passthrough</label><div class=\"sk-toggleable__content\"><pre>passthrough</pre></div></div></div></div></div></div></div></div></div></div>"
      ],
      "text/plain": [
       "ColumnTransformer(remainder='passthrough',\n",
       "                  transformers=[('one_hot_enc', OneHotEncoder(), ['Type']),\n",
       "                                ('ordinal_enc',\n",
       "                                 OrdinalEncoder(categories=[[False, True],\n",
       "                                                            [False, True],\n",
       "                                                            ['Small', 'Medium',\n",
       "                                                             'Large',\n",
       "                                                             'Very Large',\n",
       "                                                             'Extreme Large']]),\n",
       "                                 ['InWeekend', 'IsHighAmount',\n",
       "                                  'AmountCategory'])])"
      ]
     },
     "execution_count": 32,
     "metadata": {},
     "output_type": "execute_result"
    }
   ],
   "source": [
    "categorical_transforming_pipeline = ColumnTransformer(\n",
    "    transformers=[\n",
    "        (\"one_hot_enc\",one_hot_enc,[\"Type\"]),\n",
    "        (\"ordinal_enc\",ord_enc,[\"InWeekend\",\"IsHighAmount\",\"AmountCategory\"])\n",
    "    ],\n",
    "    remainder=\"passthrough\"\n",
    ")\n",
    "dump(categorical_transforming_pipeline,\"../pipelines/categorical_transforming_pipeline.joblib\")\n",
    "categorical_transforming_pipeline"
   ]
  },
  {
   "cell_type": "code",
   "execution_count": 34,
   "metadata": {},
   "outputs": [
    {
     "data": {
      "text/html": [
       "<style>#sk-container-id-7 {color: black;}#sk-container-id-7 pre{padding: 0;}#sk-container-id-7 div.sk-toggleable {background-color: white;}#sk-container-id-7 label.sk-toggleable__label {cursor: pointer;display: block;width: 100%;margin-bottom: 0;padding: 0.3em;box-sizing: border-box;text-align: center;}#sk-container-id-7 label.sk-toggleable__label-arrow:before {content: \"▸\";float: left;margin-right: 0.25em;color: #696969;}#sk-container-id-7 label.sk-toggleable__label-arrow:hover:before {color: black;}#sk-container-id-7 div.sk-estimator:hover label.sk-toggleable__label-arrow:before {color: black;}#sk-container-id-7 div.sk-toggleable__content {max-height: 0;max-width: 0;overflow: hidden;text-align: left;background-color: #f0f8ff;}#sk-container-id-7 div.sk-toggleable__content pre {margin: 0.2em;color: black;border-radius: 0.25em;background-color: #f0f8ff;}#sk-container-id-7 input.sk-toggleable__control:checked~div.sk-toggleable__content {max-height: 200px;max-width: 100%;overflow: auto;}#sk-container-id-7 input.sk-toggleable__control:checked~label.sk-toggleable__label-arrow:before {content: \"▾\";}#sk-container-id-7 div.sk-estimator input.sk-toggleable__control:checked~label.sk-toggleable__label {background-color: #d4ebff;}#sk-container-id-7 div.sk-label input.sk-toggleable__control:checked~label.sk-toggleable__label {background-color: #d4ebff;}#sk-container-id-7 input.sk-hidden--visually {border: 0;clip: rect(1px 1px 1px 1px);clip: rect(1px, 1px, 1px, 1px);height: 1px;margin: -1px;overflow: hidden;padding: 0;position: absolute;width: 1px;}#sk-container-id-7 div.sk-estimator {font-family: monospace;background-color: #f0f8ff;border: 1px dotted black;border-radius: 0.25em;box-sizing: border-box;margin-bottom: 0.5em;}#sk-container-id-7 div.sk-estimator:hover {background-color: #d4ebff;}#sk-container-id-7 div.sk-parallel-item::after {content: \"\";width: 100%;border-bottom: 1px solid gray;flex-grow: 1;}#sk-container-id-7 div.sk-label:hover label.sk-toggleable__label {background-color: #d4ebff;}#sk-container-id-7 div.sk-serial::before {content: \"\";position: absolute;border-left: 1px solid gray;box-sizing: border-box;top: 0;bottom: 0;left: 50%;z-index: 0;}#sk-container-id-7 div.sk-serial {display: flex;flex-direction: column;align-items: center;background-color: white;padding-right: 0.2em;padding-left: 0.2em;position: relative;}#sk-container-id-7 div.sk-item {position: relative;z-index: 1;}#sk-container-id-7 div.sk-parallel {display: flex;align-items: stretch;justify-content: center;background-color: white;position: relative;}#sk-container-id-7 div.sk-item::before, #sk-container-id-7 div.sk-parallel-item::before {content: \"\";position: absolute;border-left: 1px solid gray;box-sizing: border-box;top: 0;bottom: 0;left: 50%;z-index: -1;}#sk-container-id-7 div.sk-parallel-item {display: flex;flex-direction: column;z-index: 1;position: relative;background-color: white;}#sk-container-id-7 div.sk-parallel-item:first-child::after {align-self: flex-end;width: 50%;}#sk-container-id-7 div.sk-parallel-item:last-child::after {align-self: flex-start;width: 50%;}#sk-container-id-7 div.sk-parallel-item:only-child::after {width: 0;}#sk-container-id-7 div.sk-dashed-wrapped {border: 1px dashed gray;margin: 0 0.4em 0.5em 0.4em;box-sizing: border-box;padding-bottom: 0.4em;background-color: white;}#sk-container-id-7 div.sk-label label {font-family: monospace;font-weight: bold;display: inline-block;line-height: 1.2em;}#sk-container-id-7 div.sk-label-container {text-align: center;}#sk-container-id-7 div.sk-container {/* jupyter's `normalize.less` sets `[hidden] { display: none; }` but bootstrap.min.css set `[hidden] { display: none !important; }` so we also need the `!important` here to be able to override the default hidden behavior on the sphinx rendered scikit-learn.org. See: https://github.com/scikit-learn/scikit-learn/issues/21755 */display: inline-block !important;position: relative;}#sk-container-id-7 div.sk-text-repr-fallback {display: none;}</style><div id=\"sk-container-id-7\" class=\"sk-top-container\"><div class=\"sk-text-repr-fallback\"><pre>ColumnTransformer(remainder=&#x27;passthrough&#x27;,\n",
       "                  transformers=[(&#x27;scaling&#x27;, StandardScaler(),\n",
       "                                 [&#x27;MonthlyHour&#x27;, &#x27;Amount&#x27;, &#x27;SenderBalance&#x27;,\n",
       "                                  &#x27;ReceiverBalance&#x27;, &#x27;Hour&#x27;, &#x27;Day&#x27;,\n",
       "                                  &#x27;BalanceDiff&#x27;]),\n",
       "                                (&#x27;encoding&#x27;,\n",
       "                                 ColumnTransformer(remainder=&#x27;passthrough&#x27;,\n",
       "                                                   transformers=[(&#x27;one_hot_enc&#x27;,\n",
       "                                                                  OneHotEncoder(),\n",
       "                                                                  [&#x27;Type&#x27;]),\n",
       "                                                                 (&#x27;ordinal_enc&#x27;,\n",
       "                                                                  OrdinalEncoder(categories=[[False,\n",
       "                                                                                              True],\n",
       "                                                                                             [False,\n",
       "                                                                                              True],\n",
       "                                                                                             [&#x27;Small&#x27;,\n",
       "                                                                                              &#x27;Medium&#x27;,\n",
       "                                                                                              &#x27;Large&#x27;,\n",
       "                                                                                              &#x27;Very &#x27;\n",
       "                                                                                              &#x27;Large&#x27;,\n",
       "                                                                                              &#x27;Extreme &#x27;\n",
       "                                                                                              &#x27;Large&#x27;]]),\n",
       "                                                                  [&#x27;InWeekend&#x27;,\n",
       "                                                                   &#x27;IsHighAmount&#x27;,\n",
       "                                                                   &#x27;AmountCategory&#x27;])]),\n",
       "                                 [&#x27;Type&#x27;, &#x27;InWeekend&#x27;, &#x27;AmountCategory&#x27;,\n",
       "                                  &#x27;IsHighAmount&#x27;])])</pre><b>In a Jupyter environment, please rerun this cell to show the HTML representation or trust the notebook. <br />On GitHub, the HTML representation is unable to render, please try loading this page with nbviewer.org.</b></div><div class=\"sk-container\" hidden><div class=\"sk-item sk-dashed-wrapped\"><div class=\"sk-label-container\"><div class=\"sk-label sk-toggleable\"><input class=\"sk-toggleable__control sk-hidden--visually\" id=\"sk-estimator-id-62\" type=\"checkbox\" ><label for=\"sk-estimator-id-62\" class=\"sk-toggleable__label sk-toggleable__label-arrow\">ColumnTransformer</label><div class=\"sk-toggleable__content\"><pre>ColumnTransformer(remainder=&#x27;passthrough&#x27;,\n",
       "                  transformers=[(&#x27;scaling&#x27;, StandardScaler(),\n",
       "                                 [&#x27;MonthlyHour&#x27;, &#x27;Amount&#x27;, &#x27;SenderBalance&#x27;,\n",
       "                                  &#x27;ReceiverBalance&#x27;, &#x27;Hour&#x27;, &#x27;Day&#x27;,\n",
       "                                  &#x27;BalanceDiff&#x27;]),\n",
       "                                (&#x27;encoding&#x27;,\n",
       "                                 ColumnTransformer(remainder=&#x27;passthrough&#x27;,\n",
       "                                                   transformers=[(&#x27;one_hot_enc&#x27;,\n",
       "                                                                  OneHotEncoder(),\n",
       "                                                                  [&#x27;Type&#x27;]),\n",
       "                                                                 (&#x27;ordinal_enc&#x27;,\n",
       "                                                                  OrdinalEncoder(categories=[[False,\n",
       "                                                                                              True],\n",
       "                                                                                             [False,\n",
       "                                                                                              True],\n",
       "                                                                                             [&#x27;Small&#x27;,\n",
       "                                                                                              &#x27;Medium&#x27;,\n",
       "                                                                                              &#x27;Large&#x27;,\n",
       "                                                                                              &#x27;Very &#x27;\n",
       "                                                                                              &#x27;Large&#x27;,\n",
       "                                                                                              &#x27;Extreme &#x27;\n",
       "                                                                                              &#x27;Large&#x27;]]),\n",
       "                                                                  [&#x27;InWeekend&#x27;,\n",
       "                                                                   &#x27;IsHighAmount&#x27;,\n",
       "                                                                   &#x27;AmountCategory&#x27;])]),\n",
       "                                 [&#x27;Type&#x27;, &#x27;InWeekend&#x27;, &#x27;AmountCategory&#x27;,\n",
       "                                  &#x27;IsHighAmount&#x27;])])</pre></div></div></div><div class=\"sk-parallel\"><div class=\"sk-parallel-item\"><div class=\"sk-item\"><div class=\"sk-label-container\"><div class=\"sk-label sk-toggleable\"><input class=\"sk-toggleable__control sk-hidden--visually\" id=\"sk-estimator-id-63\" type=\"checkbox\" ><label for=\"sk-estimator-id-63\" class=\"sk-toggleable__label sk-toggleable__label-arrow\">scaling</label><div class=\"sk-toggleable__content\"><pre>[&#x27;MonthlyHour&#x27;, &#x27;Amount&#x27;, &#x27;SenderBalance&#x27;, &#x27;ReceiverBalance&#x27;, &#x27;Hour&#x27;, &#x27;Day&#x27;, &#x27;BalanceDiff&#x27;]</pre></div></div></div><div class=\"sk-serial\"><div class=\"sk-item\"><div class=\"sk-estimator sk-toggleable\"><input class=\"sk-toggleable__control sk-hidden--visually\" id=\"sk-estimator-id-64\" type=\"checkbox\" ><label for=\"sk-estimator-id-64\" class=\"sk-toggleable__label sk-toggleable__label-arrow\">StandardScaler</label><div class=\"sk-toggleable__content\"><pre>StandardScaler()</pre></div></div></div></div></div></div><div class=\"sk-parallel-item\"><div class=\"sk-item\"><div class=\"sk-label-container\"><div class=\"sk-label sk-toggleable\"><input class=\"sk-toggleable__control sk-hidden--visually\" id=\"sk-estimator-id-65\" type=\"checkbox\" ><label for=\"sk-estimator-id-65\" class=\"sk-toggleable__label sk-toggleable__label-arrow\">encoding</label><div class=\"sk-toggleable__content\"><pre>[&#x27;Type&#x27;, &#x27;InWeekend&#x27;, &#x27;AmountCategory&#x27;, &#x27;IsHighAmount&#x27;]</pre></div></div></div><div class=\"sk-serial\"><div class=\"sk-item sk-dashed-wrapped\"><div class=\"sk-parallel\"><div class=\"sk-parallel-item\"><div class=\"sk-item\"><div class=\"sk-label-container\"><div class=\"sk-label sk-toggleable\"><input class=\"sk-toggleable__control sk-hidden--visually\" id=\"sk-estimator-id-66\" type=\"checkbox\" ><label for=\"sk-estimator-id-66\" class=\"sk-toggleable__label sk-toggleable__label-arrow\">one_hot_enc</label><div class=\"sk-toggleable__content\"><pre>[&#x27;Type&#x27;]</pre></div></div></div><div class=\"sk-serial\"><div class=\"sk-item\"><div class=\"sk-estimator sk-toggleable\"><input class=\"sk-toggleable__control sk-hidden--visually\" id=\"sk-estimator-id-67\" type=\"checkbox\" ><label for=\"sk-estimator-id-67\" class=\"sk-toggleable__label sk-toggleable__label-arrow\">OneHotEncoder</label><div class=\"sk-toggleable__content\"><pre>OneHotEncoder()</pre></div></div></div></div></div></div><div class=\"sk-parallel-item\"><div class=\"sk-item\"><div class=\"sk-label-container\"><div class=\"sk-label sk-toggleable\"><input class=\"sk-toggleable__control sk-hidden--visually\" id=\"sk-estimator-id-68\" type=\"checkbox\" ><label for=\"sk-estimator-id-68\" class=\"sk-toggleable__label sk-toggleable__label-arrow\">ordinal_enc</label><div class=\"sk-toggleable__content\"><pre>[&#x27;InWeekend&#x27;, &#x27;IsHighAmount&#x27;, &#x27;AmountCategory&#x27;]</pre></div></div></div><div class=\"sk-serial\"><div class=\"sk-item\"><div class=\"sk-estimator sk-toggleable\"><input class=\"sk-toggleable__control sk-hidden--visually\" id=\"sk-estimator-id-69\" type=\"checkbox\" ><label for=\"sk-estimator-id-69\" class=\"sk-toggleable__label sk-toggleable__label-arrow\">OrdinalEncoder</label><div class=\"sk-toggleable__content\"><pre>OrdinalEncoder(categories=[[False, True], [False, True],\n",
       "                           [&#x27;Small&#x27;, &#x27;Medium&#x27;, &#x27;Large&#x27;, &#x27;Very Large&#x27;,\n",
       "                            &#x27;Extreme Large&#x27;]])</pre></div></div></div></div></div></div><div class=\"sk-parallel-item\"><div class=\"sk-item\"><div class=\"sk-label-container\"><div class=\"sk-label sk-toggleable\"><input class=\"sk-toggleable__control sk-hidden--visually\" id=\"sk-estimator-id-70\" type=\"checkbox\" ><label for=\"sk-estimator-id-70\" class=\"sk-toggleable__label sk-toggleable__label-arrow\">remainder</label><div class=\"sk-toggleable__content\"><pre></pre></div></div></div><div class=\"sk-serial\"><div class=\"sk-item\"><div class=\"sk-estimator sk-toggleable\"><input class=\"sk-toggleable__control sk-hidden--visually\" id=\"sk-estimator-id-71\" type=\"checkbox\" ><label for=\"sk-estimator-id-71\" class=\"sk-toggleable__label sk-toggleable__label-arrow\">passthrough</label><div class=\"sk-toggleable__content\"><pre>passthrough</pre></div></div></div></div></div></div></div></div></div></div></div><div class=\"sk-parallel-item\"><div class=\"sk-item\"><div class=\"sk-label-container\"><div class=\"sk-label sk-toggleable\"><input class=\"sk-toggleable__control sk-hidden--visually\" id=\"sk-estimator-id-72\" type=\"checkbox\" ><label for=\"sk-estimator-id-72\" class=\"sk-toggleable__label sk-toggleable__label-arrow\">remainder</label><div class=\"sk-toggleable__content\"><pre></pre></div></div></div><div class=\"sk-serial\"><div class=\"sk-item\"><div class=\"sk-estimator sk-toggleable\"><input class=\"sk-toggleable__control sk-hidden--visually\" id=\"sk-estimator-id-73\" type=\"checkbox\" ><label for=\"sk-estimator-id-73\" class=\"sk-toggleable__label sk-toggleable__label-arrow\">passthrough</label><div class=\"sk-toggleable__content\"><pre>passthrough</pre></div></div></div></div></div></div></div></div></div></div>"
      ],
      "text/plain": [
       "ColumnTransformer(remainder='passthrough',\n",
       "                  transformers=[('scaling', StandardScaler(),\n",
       "                                 ['MonthlyHour', 'Amount', 'SenderBalance',\n",
       "                                  'ReceiverBalance', 'Hour', 'Day',\n",
       "                                  'BalanceDiff']),\n",
       "                                ('encoding',\n",
       "                                 ColumnTransformer(remainder='passthrough',\n",
       "                                                   transformers=[('one_hot_enc',\n",
       "                                                                  OneHotEncoder(),\n",
       "                                                                  ['Type']),\n",
       "                                                                 ('ordinal_enc',\n",
       "                                                                  OrdinalEncoder(categories=[[False,\n",
       "                                                                                              True],\n",
       "                                                                                             [False,\n",
       "                                                                                              True],\n",
       "                                                                                             ['Small',\n",
       "                                                                                              'Medium',\n",
       "                                                                                              'Large',\n",
       "                                                                                              'Very '\n",
       "                                                                                              'Large',\n",
       "                                                                                              'Extreme '\n",
       "                                                                                              'Large']]),\n",
       "                                                                  ['InWeekend',\n",
       "                                                                   'IsHighAmount',\n",
       "                                                                   'AmountCategory'])]),\n",
       "                                 ['Type', 'InWeekend', 'AmountCategory',\n",
       "                                  'IsHighAmount'])])"
      ]
     },
     "execution_count": 34,
     "metadata": {},
     "output_type": "execute_result"
    }
   ],
   "source": [
    "transforming_pipeline = ColumnTransformer(\n",
    "    transformers=[\n",
    "        (\"scaling\",scaler,[\"MonthlyHour\",\"Amount\", \"SenderBalance\", \"ReceiverBalance\",\"Hour\",\"Day\",\"BalanceDiff\"]),\n",
    "        (\"encoding\",categorical_transforming_pipeline,[\"Type\",\"InWeekend\",\"AmountCategory\",\"IsHighAmount\"])\n",
    "    ],\n",
    "    remainder=\"passthrough\"\n",
    ")\n",
    "dump(transforming_pipeline,\"../pipelines/transforming_pipeline.joblib\")\n",
    "transforming_pipeline"
   ]
  },
  {
   "cell_type": "code",
   "execution_count": 36,
   "metadata": {},
   "outputs": [
    {
     "data": {
      "text/plain": [
       "['../pipelines/pipeline.joblib']"
      ]
     },
     "execution_count": 36,
     "metadata": {},
     "output_type": "execute_result"
    }
   ],
   "source": [
    "pipeline = Pipeline(\n",
    "    steps=[\n",
    "        (\"cleaning\",cleaning_pipeline),\n",
    "        (\"feature_engineering\",feature_engineering),\n",
    "        (\"transforming\",transforming_pipeline)\n",
    "    ]\n",
    ")\n",
    "pipeline.fit_transform(X)"
   ]
  },
  {
   "cell_type": "code",
   "execution_count": 57,
   "metadata": {},
   "outputs": [],
   "source": [
    "with open(\"../pipelines/pipeline.pkl\", \"wb\") as f:\n",
    "    cloudpickle.dump(pipeline, f)"
   ]
  },
  {
   "cell_type": "code",
   "execution_count": 53,
   "metadata": {},
   "outputs": [
    {
     "data": {
      "text/plain": [
       "(8400, 15)"
      ]
     },
     "execution_count": 53,
     "metadata": {},
     "output_type": "execute_result"
    }
   ],
   "source": [
    "# Test Pipeline with Test Data\n",
    "pipeline.transform(pd.read_csv(\"../data/test_data.csv\")).shape"
   ]
  },
  {
   "cell_type": "code",
   "execution_count": 50,
   "metadata": {},
   "outputs": [
    {
     "data": {
      "text/html": [
       "<div>\n",
       "<style scoped>\n",
       "    .dataframe tbody tr th:only-of-type {\n",
       "        vertical-align: middle;\n",
       "    }\n",
       "\n",
       "    .dataframe tbody tr th {\n",
       "        vertical-align: top;\n",
       "    }\n",
       "\n",
       "    .dataframe thead th {\n",
       "        text-align: right;\n",
       "    }\n",
       "</style>\n",
       "<table border=\"1\" class=\"dataframe\">\n",
       "  <thead>\n",
       "    <tr style=\"text-align: right;\">\n",
       "      <th></th>\n",
       "      <th>0</th>\n",
       "      <th>1</th>\n",
       "      <th>2</th>\n",
       "      <th>3</th>\n",
       "      <th>4</th>\n",
       "      <th>5</th>\n",
       "      <th>6</th>\n",
       "      <th>7</th>\n",
       "      <th>8</th>\n",
       "      <th>9</th>\n",
       "      <th>10</th>\n",
       "      <th>11</th>\n",
       "      <th>12</th>\n",
       "      <th>13</th>\n",
       "      <th>14</th>\n",
       "      <th>target</th>\n",
       "    </tr>\n",
       "  </thead>\n",
       "  <tbody>\n",
       "    <tr>\n",
       "      <th>0</th>\n",
       "      <td>-1.481411</td>\n",
       "      <td>-0.262831</td>\n",
       "      <td>-0.335514</td>\n",
       "      <td>-0.123297</td>\n",
       "      <td>0.683058</td>\n",
       "      <td>-1.492419</td>\n",
       "      <td>-0.094636</td>\n",
       "      <td>0.0</td>\n",
       "      <td>0.0</td>\n",
       "      <td>0.0</td>\n",
       "      <td>0.0</td>\n",
       "      <td>1.0</td>\n",
       "      <td>0.0</td>\n",
       "      <td>0.0</td>\n",
       "      <td>4.0</td>\n",
       "      <td>0</td>\n",
       "    </tr>\n",
       "    <tr>\n",
       "      <th>1</th>\n",
       "      <td>-0.536103</td>\n",
       "      <td>-0.369026</td>\n",
       "      <td>-0.335335</td>\n",
       "      <td>-0.230177</td>\n",
       "      <td>0.505376</td>\n",
       "      <td>-0.522977</td>\n",
       "      <td>-0.006963</td>\n",
       "      <td>0.0</td>\n",
       "      <td>0.0</td>\n",
       "      <td>1.0</td>\n",
       "      <td>0.0</td>\n",
       "      <td>0.0</td>\n",
       "      <td>0.0</td>\n",
       "      <td>0.0</td>\n",
       "      <td>3.0</td>\n",
       "      <td>0</td>\n",
       "    </tr>\n",
       "    <tr>\n",
       "      <th>2</th>\n",
       "      <td>0.148821</td>\n",
       "      <td>-0.380366</td>\n",
       "      <td>-0.301520</td>\n",
       "      <td>-0.282502</td>\n",
       "      <td>0.683058</td>\n",
       "      <td>0.169482</td>\n",
       "      <td>0.055627</td>\n",
       "      <td>0.0</td>\n",
       "      <td>0.0</td>\n",
       "      <td>0.0</td>\n",
       "      <td>1.0</td>\n",
       "      <td>0.0</td>\n",
       "      <td>1.0</td>\n",
       "      <td>0.0</td>\n",
       "      <td>2.0</td>\n",
       "      <td>0</td>\n",
       "    </tr>\n",
       "    <tr>\n",
       "      <th>3</th>\n",
       "      <td>-0.298361</td>\n",
       "      <td>-0.329487</td>\n",
       "      <td>-0.335514</td>\n",
       "      <td>-0.258848</td>\n",
       "      <td>-0.560711</td>\n",
       "      <td>-0.245993</td>\n",
       "      <td>0.016423</td>\n",
       "      <td>0.0</td>\n",
       "      <td>1.0</td>\n",
       "      <td>0.0</td>\n",
       "      <td>0.0</td>\n",
       "      <td>0.0</td>\n",
       "      <td>0.0</td>\n",
       "      <td>0.0</td>\n",
       "      <td>3.0</td>\n",
       "      <td>0</td>\n",
       "    </tr>\n",
       "    <tr>\n",
       "      <th>4</th>\n",
       "      <td>-1.390843</td>\n",
       "      <td>-0.361408</td>\n",
       "      <td>-0.325133</td>\n",
       "      <td>-0.201263</td>\n",
       "      <td>-0.738393</td>\n",
       "      <td>-1.353927</td>\n",
       "      <td>-0.024703</td>\n",
       "      <td>0.0</td>\n",
       "      <td>1.0</td>\n",
       "      <td>0.0</td>\n",
       "      <td>0.0</td>\n",
       "      <td>0.0</td>\n",
       "      <td>0.0</td>\n",
       "      <td>0.0</td>\n",
       "      <td>3.0</td>\n",
       "      <td>1</td>\n",
       "    </tr>\n",
       "    <tr>\n",
       "      <th>...</th>\n",
       "      <td>...</td>\n",
       "      <td>...</td>\n",
       "      <td>...</td>\n",
       "      <td>...</td>\n",
       "      <td>...</td>\n",
       "      <td>...</td>\n",
       "      <td>...</td>\n",
       "      <td>...</td>\n",
       "      <td>...</td>\n",
       "      <td>...</td>\n",
       "      <td>...</td>\n",
       "      <td>...</td>\n",
       "      <td>...</td>\n",
       "      <td>...</td>\n",
       "      <td>...</td>\n",
       "      <td>...</td>\n",
       "    </tr>\n",
       "    <tr>\n",
       "      <th>75595</th>\n",
       "      <td>-0.173829</td>\n",
       "      <td>-0.381017</td>\n",
       "      <td>-0.243724</td>\n",
       "      <td>-0.282502</td>\n",
       "      <td>-0.916074</td>\n",
       "      <td>-0.107501</td>\n",
       "      <td>0.089331</td>\n",
       "      <td>0.0</td>\n",
       "      <td>0.0</td>\n",
       "      <td>0.0</td>\n",
       "      <td>1.0</td>\n",
       "      <td>0.0</td>\n",
       "      <td>0.0</td>\n",
       "      <td>0.0</td>\n",
       "      <td>1.0</td>\n",
       "      <td>0</td>\n",
       "    </tr>\n",
       "    <tr>\n",
       "      <th>75596</th>\n",
       "      <td>-0.247416</td>\n",
       "      <td>0.512344</td>\n",
       "      <td>-0.335514</td>\n",
       "      <td>0.215003</td>\n",
       "      <td>1.038420</td>\n",
       "      <td>-0.245993</td>\n",
       "      <td>-0.371810</td>\n",
       "      <td>0.0</td>\n",
       "      <td>0.0</td>\n",
       "      <td>0.0</td>\n",
       "      <td>0.0</td>\n",
       "      <td>1.0</td>\n",
       "      <td>0.0</td>\n",
       "      <td>0.0</td>\n",
       "      <td>4.0</td>\n",
       "      <td>0</td>\n",
       "    </tr>\n",
       "    <tr>\n",
       "      <th>75597</th>\n",
       "      <td>1.190358</td>\n",
       "      <td>0.288776</td>\n",
       "      <td>0.016508</td>\n",
       "      <td>-0.282502</td>\n",
       "      <td>-0.738393</td>\n",
       "      <td>1.277416</td>\n",
       "      <td>0.241084</td>\n",
       "      <td>0.0</td>\n",
       "      <td>1.0</td>\n",
       "      <td>0.0</td>\n",
       "      <td>0.0</td>\n",
       "      <td>0.0</td>\n",
       "      <td>1.0</td>\n",
       "      <td>0.0</td>\n",
       "      <td>4.0</td>\n",
       "      <td>1</td>\n",
       "    </tr>\n",
       "    <tr>\n",
       "      <th>75598</th>\n",
       "      <td>0.007307</td>\n",
       "      <td>-0.346507</td>\n",
       "      <td>-0.317303</td>\n",
       "      <td>-0.282502</td>\n",
       "      <td>0.505376</td>\n",
       "      <td>0.030990</td>\n",
       "      <td>0.046423</td>\n",
       "      <td>0.0</td>\n",
       "      <td>1.0</td>\n",
       "      <td>0.0</td>\n",
       "      <td>0.0</td>\n",
       "      <td>0.0</td>\n",
       "      <td>0.0</td>\n",
       "      <td>0.0</td>\n",
       "      <td>3.0</td>\n",
       "      <td>1</td>\n",
       "    </tr>\n",
       "    <tr>\n",
       "      <th>75599</th>\n",
       "      <td>1.841318</td>\n",
       "      <td>0.612628</td>\n",
       "      <td>0.186676</td>\n",
       "      <td>-0.264242</td>\n",
       "      <td>-1.626799</td>\n",
       "      <td>1.969874</td>\n",
       "      <td>0.325357</td>\n",
       "      <td>0.0</td>\n",
       "      <td>1.0</td>\n",
       "      <td>0.0</td>\n",
       "      <td>0.0</td>\n",
       "      <td>0.0</td>\n",
       "      <td>0.0</td>\n",
       "      <td>0.0</td>\n",
       "      <td>4.0</td>\n",
       "      <td>1</td>\n",
       "    </tr>\n",
       "  </tbody>\n",
       "</table>\n",
       "<p>75600 rows × 16 columns</p>\n",
       "</div>"
      ],
      "text/plain": [
       "              0         1         2         3         4         5         6  \\\n",
       "0     -1.481411 -0.262831 -0.335514 -0.123297  0.683058 -1.492419 -0.094636   \n",
       "1     -0.536103 -0.369026 -0.335335 -0.230177  0.505376 -0.522977 -0.006963   \n",
       "2      0.148821 -0.380366 -0.301520 -0.282502  0.683058  0.169482  0.055627   \n",
       "3     -0.298361 -0.329487 -0.335514 -0.258848 -0.560711 -0.245993  0.016423   \n",
       "4     -1.390843 -0.361408 -0.325133 -0.201263 -0.738393 -1.353927 -0.024703   \n",
       "...         ...       ...       ...       ...       ...       ...       ...   \n",
       "75595 -0.173829 -0.381017 -0.243724 -0.282502 -0.916074 -0.107501  0.089331   \n",
       "75596 -0.247416  0.512344 -0.335514  0.215003  1.038420 -0.245993 -0.371810   \n",
       "75597  1.190358  0.288776  0.016508 -0.282502 -0.738393  1.277416  0.241084   \n",
       "75598  0.007307 -0.346507 -0.317303 -0.282502  0.505376  0.030990  0.046423   \n",
       "75599  1.841318  0.612628  0.186676 -0.264242 -1.626799  1.969874  0.325357   \n",
       "\n",
       "         7    8    9   10   11   12   13   14  target  \n",
       "0      0.0  0.0  0.0  0.0  1.0  0.0  0.0  4.0       0  \n",
       "1      0.0  0.0  1.0  0.0  0.0  0.0  0.0  3.0       0  \n",
       "2      0.0  0.0  0.0  1.0  0.0  1.0  0.0  2.0       0  \n",
       "3      0.0  1.0  0.0  0.0  0.0  0.0  0.0  3.0       0  \n",
       "4      0.0  1.0  0.0  0.0  0.0  0.0  0.0  3.0       1  \n",
       "...    ...  ...  ...  ...  ...  ...  ...  ...     ...  \n",
       "75595  0.0  0.0  0.0  1.0  0.0  0.0  0.0  1.0       0  \n",
       "75596  0.0  0.0  0.0  0.0  1.0  0.0  0.0  4.0       0  \n",
       "75597  0.0  1.0  0.0  0.0  0.0  1.0  0.0  4.0       1  \n",
       "75598  0.0  1.0  0.0  0.0  0.0  0.0  0.0  3.0       1  \n",
       "75599  0.0  1.0  0.0  0.0  0.0  0.0  0.0  4.0       1  \n",
       "\n",
       "[75600 rows x 16 columns]"
      ]
     },
     "execution_count": 50,
     "metadata": {},
     "output_type": "execute_result"
    }
   ],
   "source": [
    "# Save Processed Training data\n",
    "train_data_processed = pd.DataFrame(pipeline.transform(X))\n",
    "train_data_processed[\"target\"] = y\n",
    "train_data_processed"
   ]
  },
  {
   "cell_type": "code",
   "execution_count": 51,
   "metadata": {},
   "outputs": [],
   "source": [
    "train_data_processed.to_csv(\"../data/train_processed_data.csv\")"
   ]
  }
 ],
 "metadata": {
  "kernelspec": {
   "display_name": "Python 3 (ipykernel)",
   "language": "python",
   "name": "python3"
  },
  "language_info": {
   "codemirror_mode": {
    "name": "ipython",
    "version": 3
   },
   "file_extension": ".py",
   "mimetype": "text/x-python",
   "name": "python",
   "nbconvert_exporter": "python",
   "pygments_lexer": "ipython3",
   "version": "3.11.7"
  }
 },
 "nbformat": 4,
 "nbformat_minor": 4
}
