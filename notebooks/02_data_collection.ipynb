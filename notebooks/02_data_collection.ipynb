{
 "cells": [
  {
   "cell_type": "markdown",
   "metadata": {},
   "source": [
    "# Data Collection"
   ]
  },
  {
   "cell_type": "markdown",
   "metadata": {},
   "source": [
    "## List the data you need and how much you need."
   ]
  },
  {
   "cell_type": "markdown",
   "metadata": {},
   "source": [
    "We will use Financial data with these features:\n",
    "- **Step**: maps a unit of time in the real world. In this case 1 step is 1 hour of time. Total steps 744 (30 days simulation).\n",
    "- **Type**: CASH-IN, CASH-OUT, DEBIT, PAYMENT and TRANSFER.\n",
    "- **Amount**: amount of the transaction in local currency.\n",
    "- **Sender Balance**: initial balance before the transaction.\n",
    "- **Receiver Balance**: initial balance recipient before the transaction. Note that there is not information for customers that start with M (Merchants).\n",
    "- **isFraud**: is this transaction were considered as fraud or no."
   ]
  },
  {
   "cell_type": "markdown",
   "metadata": {},
   "source": [
    "We need approximatelly a IID balanced data with 100_000 transactions."
   ]
  },
  {
   "cell_type": "markdown",
   "metadata": {},
   "source": [
    "## Find and document where you can get that data"
   ]
  },
  {
   "cell_type": "markdown",
   "metadata": {},
   "source": [
    "Data is available at <a href=\"https://www.kaggle.com/datasets/ealaxi/paysim1\">kaggle</a> with additional features but not neseccary for fraud detection."
   ]
  },
  {
   "cell_type": "markdown",
   "metadata": {},
   "source": [
    "## Check how much space it will take"
   ]
  },
  {
   "cell_type": "markdown",
   "metadata": {},
   "source": [
    "With all the 24 million transactions, It takes ~500 mb."
   ]
  },
  {
   "cell_type": "markdown",
   "metadata": {},
   "source": [
    "## Check legal obligations, and get authorization if necessary."
   ]
  },
  {
   "cell_type": "markdown",
   "metadata": {},
   "source": [
    "Its an open-source data."
   ]
  },
  {
   "cell_type": "markdown",
   "metadata": {},
   "source": [
    "## Get Data"
   ]
  },
  {
   "cell_type": "markdown",
   "metadata": {},
   "source": [
    "Download data from kaggle should be located at **../data/PS_20174392719_1491204439457_log**"
   ]
  },
  {
   "cell_type": "markdown",
   "metadata": {},
   "source": [
    "### NOTE: Transactions which are detected as fraud are cancelled, so for fraud detection these columns (oldbalanceOrg, newbalanceOrig, oldbalanceDest, newbalanceDest ) must not be used."
   ]
  },
  {
   "cell_type": "markdown",
   "metadata": {},
   "source": [
    "## Convert the data to a better format"
   ]
  },
  {
   "cell_type": "code",
   "execution_count": 1,
   "metadata": {},
   "outputs": [],
   "source": [
    "import numpy as np\n",
    "import pandas as pd"
   ]
  },
  {
   "cell_type": "code",
   "execution_count": 76,
   "metadata": {},
   "outputs": [],
   "source": [
    "# Load CSV Data\n",
    "data_path = r\"../data/PS_20174392719_1491204439457_log.csv\"\n",
    "data = pd.read_csv(data_path,engine=\"pyarrow\")"
   ]
  },
  {
   "cell_type": "code",
   "execution_count": 77,
   "metadata": {},
   "outputs": [
    {
     "data": {
      "text/html": [
       "<div>\n",
       "<style scoped>\n",
       "    .dataframe tbody tr th:only-of-type {\n",
       "        vertical-align: middle;\n",
       "    }\n",
       "\n",
       "    .dataframe tbody tr th {\n",
       "        vertical-align: top;\n",
       "    }\n",
       "\n",
       "    .dataframe thead th {\n",
       "        text-align: right;\n",
       "    }\n",
       "</style>\n",
       "<table border=\"1\" class=\"dataframe\">\n",
       "  <thead>\n",
       "    <tr style=\"text-align: right;\">\n",
       "      <th></th>\n",
       "      <th>step</th>\n",
       "      <th>type</th>\n",
       "      <th>amount</th>\n",
       "      <th>nameOrig</th>\n",
       "      <th>oldbalanceOrg</th>\n",
       "      <th>newbalanceOrig</th>\n",
       "      <th>nameDest</th>\n",
       "      <th>oldbalanceDest</th>\n",
       "      <th>newbalanceDest</th>\n",
       "      <th>isFraud</th>\n",
       "      <th>isFlaggedFraud</th>\n",
       "    </tr>\n",
       "  </thead>\n",
       "  <tbody>\n",
       "    <tr>\n",
       "      <th>0</th>\n",
       "      <td>1</td>\n",
       "      <td>PAYMENT</td>\n",
       "      <td>9839.64</td>\n",
       "      <td>C1231006815</td>\n",
       "      <td>170136.0</td>\n",
       "      <td>160296.36</td>\n",
       "      <td>M1979787155</td>\n",
       "      <td>0.0</td>\n",
       "      <td>0.0</td>\n",
       "      <td>0</td>\n",
       "      <td>0</td>\n",
       "    </tr>\n",
       "    <tr>\n",
       "      <th>1</th>\n",
       "      <td>1</td>\n",
       "      <td>PAYMENT</td>\n",
       "      <td>1864.28</td>\n",
       "      <td>C1666544295</td>\n",
       "      <td>21249.0</td>\n",
       "      <td>19384.72</td>\n",
       "      <td>M2044282225</td>\n",
       "      <td>0.0</td>\n",
       "      <td>0.0</td>\n",
       "      <td>0</td>\n",
       "      <td>0</td>\n",
       "    </tr>\n",
       "    <tr>\n",
       "      <th>2</th>\n",
       "      <td>1</td>\n",
       "      <td>TRANSFER</td>\n",
       "      <td>181.00</td>\n",
       "      <td>C1305486145</td>\n",
       "      <td>181.0</td>\n",
       "      <td>0.00</td>\n",
       "      <td>C553264065</td>\n",
       "      <td>0.0</td>\n",
       "      <td>0.0</td>\n",
       "      <td>1</td>\n",
       "      <td>0</td>\n",
       "    </tr>\n",
       "    <tr>\n",
       "      <th>3</th>\n",
       "      <td>1</td>\n",
       "      <td>CASH_OUT</td>\n",
       "      <td>181.00</td>\n",
       "      <td>C840083671</td>\n",
       "      <td>181.0</td>\n",
       "      <td>0.00</td>\n",
       "      <td>C38997010</td>\n",
       "      <td>21182.0</td>\n",
       "      <td>0.0</td>\n",
       "      <td>1</td>\n",
       "      <td>0</td>\n",
       "    </tr>\n",
       "    <tr>\n",
       "      <th>4</th>\n",
       "      <td>1</td>\n",
       "      <td>PAYMENT</td>\n",
       "      <td>11668.14</td>\n",
       "      <td>C2048537720</td>\n",
       "      <td>41554.0</td>\n",
       "      <td>29885.86</td>\n",
       "      <td>M1230701703</td>\n",
       "      <td>0.0</td>\n",
       "      <td>0.0</td>\n",
       "      <td>0</td>\n",
       "      <td>0</td>\n",
       "    </tr>\n",
       "  </tbody>\n",
       "</table>\n",
       "</div>"
      ],
      "text/plain": [
       "   step      type    amount     nameOrig  oldbalanceOrg  newbalanceOrig  \\\n",
       "0     1   PAYMENT   9839.64  C1231006815       170136.0       160296.36   \n",
       "1     1   PAYMENT   1864.28  C1666544295        21249.0        19384.72   \n",
       "2     1  TRANSFER    181.00  C1305486145          181.0            0.00   \n",
       "3     1  CASH_OUT    181.00   C840083671          181.0            0.00   \n",
       "4     1   PAYMENT  11668.14  C2048537720        41554.0        29885.86   \n",
       "\n",
       "      nameDest  oldbalanceDest  newbalanceDest  isFraud  isFlaggedFraud  \n",
       "0  M1979787155             0.0             0.0        0               0  \n",
       "1  M2044282225             0.0             0.0        0               0  \n",
       "2   C553264065             0.0             0.0        1               0  \n",
       "3    C38997010         21182.0             0.0        1               0  \n",
       "4  M1230701703             0.0             0.0        0               0  "
      ]
     },
     "execution_count": 77,
     "metadata": {},
     "output_type": "execute_result"
    }
   ],
   "source": [
    "data.head()"
   ]
  },
  {
   "cell_type": "code",
   "execution_count": 78,
   "metadata": {},
   "outputs": [
    {
     "data": {
      "text/plain": [
       "(array([0, 1], dtype=int64), array([6354407,    8213], dtype=int64))"
      ]
     },
     "execution_count": 78,
     "metadata": {},
     "output_type": "execute_result"
    }
   ],
   "source": [
    "# Check Balance of Data\n",
    "np.unique(data.isFraud,return_counts=True)"
   ]
  },
  {
   "cell_type": "markdown",
   "metadata": {},
   "source": [
    "What a bad imbalance betweem the two targets."
   ]
  },
  {
   "cell_type": "code",
   "execution_count": 79,
   "metadata": {},
   "outputs": [],
   "source": [
    "# Select Only Columns necessary for Fraud Detection\n",
    "cols_to_select = [\"step\",\"type\",\"amount\",\"oldbalanceOrg\",\"oldbalanceDest\",\"isFraud\"]\n",
    "data = data[cols_to_select]"
   ]
  },
  {
   "cell_type": "code",
   "execution_count": 80,
   "metadata": {},
   "outputs": [],
   "source": [
    "# Rename Columns\n",
    "data.columns = [\"MonthlyHour\",\"Type\",\"Amount\",\"SenderBalance\",\"ReceiverBalance\",\"isFraud\"]"
   ]
  },
  {
   "cell_type": "code",
   "execution_count": 81,
   "metadata": {},
   "outputs": [
    {
     "data": {
      "text/plain": [
       "(array(['CASH_IN', 'CASH_OUT', 'DEBIT', 'PAYMENT', 'TRANSFER'],\n",
       "       dtype=object),\n",
       " array([1399284, 2237500,   41432, 2151495,  532909], dtype=int64))"
      ]
     },
     "execution_count": 81,
     "metadata": {},
     "output_type": "execute_result"
    }
   ],
   "source": [
    "# Check Each Type and number of records\n",
    "import numpy as np\n",
    "np.unique(data.Type,return_counts=True)"
   ]
  },
  {
   "cell_type": "code",
   "execution_count": 98,
   "metadata": {},
   "outputs": [
    {
     "data": {
      "text/plain": [
       "array(['PAYMENT', 'TRANSFER', 'CASH_OUT', 'DEBIT', 'CASH_IN'],\n",
       "      dtype=object)"
      ]
     },
     "execution_count": 98,
     "metadata": {},
     "output_type": "execute_result"
    }
   ],
   "source": [
    "data.Type.unique()"
   ]
  },
  {
   "cell_type": "code",
   "execution_count": 124,
   "metadata": {},
   "outputs": [
    {
     "name": "stdout",
     "output_type": "stream",
     "text": [
      "Sampled data shape: (70000, 6)\n"
     ]
    }
   ],
   "source": [
    "# Select records with Balanced Transaction Type and Balanced Target\n",
    "num_records_per_type = 10_000\n",
    "sampled_data = []\n",
    "\n",
    "for txn_type in data.Type.unique():\n",
    "    # Filter data for the current transaction type\n",
    "    good_data = data[(data.Type == txn_type) & (data.isFraud == 0)]\n",
    "    bad_data = data[(data.Type == txn_type) & (data.isFraud == 1)]\n",
    "    \n",
    "    sampled_good = good_data.sample(n=min(len(good_data), num_records_per_type), random_state=42)\n",
    "    \n",
    "    # Oversample fraud data if necessary\n",
    "    if len(bad_data) > 0:\n",
    "        if len(bad_data) < num_records_per_type:\n",
    "            sampled_bad = bad_data.sample(n=num_records_per_type, replace=True, random_state=42)\n",
    "        else:\n",
    "            sampled_bad = bad_data.sample(n=num_records_per_type, random_state=42)\n",
    "    else:\n",
    "        sampled_bad = pd.DataFrame()  # Empty DataFrame if no fraud records exist\n",
    "    \n",
    "    # Combine good and bad samples for the current transaction type\n",
    "    current_sampled_data = pd.concat([sampled_good, sampled_bad], axis=0)\n",
    "    \n",
    "    # Append the current transaction type's sampled data to the list\n",
    "    sampled_data.append(current_sampled_data)\n",
    "\n",
    "# Combine all sampled data into a single DataFrame\n",
    "sampled_data = pd.concat(sampled_data, axis=0)\n",
    "\n",
    "# Reset the index after combining all the data\n",
    "sampled_data.reset_index(drop=True, inplace=True)\n",
    "\n",
    "print(f\"Sampled data shape: {sampled_data.shape}\")"
   ]
  },
  {
   "cell_type": "code",
   "execution_count": 122,
   "metadata": {},
   "outputs": [
    {
     "data": {
      "text/html": [
       "<div>\n",
       "<style scoped>\n",
       "    .dataframe tbody tr th:only-of-type {\n",
       "        vertical-align: middle;\n",
       "    }\n",
       "\n",
       "    .dataframe tbody tr th {\n",
       "        vertical-align: top;\n",
       "    }\n",
       "\n",
       "    .dataframe thead th {\n",
       "        text-align: right;\n",
       "    }\n",
       "</style>\n",
       "<table border=\"1\" class=\"dataframe\">\n",
       "  <thead>\n",
       "    <tr style=\"text-align: right;\">\n",
       "      <th></th>\n",
       "      <th>index</th>\n",
       "      <th>MonthlyHour</th>\n",
       "      <th>Type</th>\n",
       "      <th>Amount</th>\n",
       "      <th>SenderBalance</th>\n",
       "      <th>ReceiverBalance</th>\n",
       "      <th>isFraud</th>\n",
       "    </tr>\n",
       "  </thead>\n",
       "  <tbody>\n",
       "    <tr>\n",
       "      <th>0</th>\n",
       "      <td>4272564</td>\n",
       "      <td>307</td>\n",
       "      <td>PAYMENT</td>\n",
       "      <td>18505.16</td>\n",
       "      <td>9141.0</td>\n",
       "      <td>0.00</td>\n",
       "      <td>0</td>\n",
       "    </tr>\n",
       "    <tr>\n",
       "      <th>1</th>\n",
       "      <td>2697361</td>\n",
       "      <td>211</td>\n",
       "      <td>PAYMENT</td>\n",
       "      <td>289.33</td>\n",
       "      <td>1697.0</td>\n",
       "      <td>0.00</td>\n",
       "      <td>0</td>\n",
       "    </tr>\n",
       "    <tr>\n",
       "      <th>2</th>\n",
       "      <td>982284</td>\n",
       "      <td>44</td>\n",
       "      <td>PAYMENT</td>\n",
       "      <td>11260.18</td>\n",
       "      <td>104701.0</td>\n",
       "      <td>0.00</td>\n",
       "      <td>0</td>\n",
       "    </tr>\n",
       "    <tr>\n",
       "      <th>3</th>\n",
       "      <td>2190099</td>\n",
       "      <td>185</td>\n",
       "      <td>PAYMENT</td>\n",
       "      <td>6479.49</td>\n",
       "      <td>0.0</td>\n",
       "      <td>0.00</td>\n",
       "      <td>0</td>\n",
       "    </tr>\n",
       "    <tr>\n",
       "      <th>4</th>\n",
       "      <td>5536099</td>\n",
       "      <td>381</td>\n",
       "      <td>PAYMENT</td>\n",
       "      <td>3397.28</td>\n",
       "      <td>41722.0</td>\n",
       "      <td>0.00</td>\n",
       "      <td>0</td>\n",
       "    </tr>\n",
       "    <tr>\n",
       "      <th>...</th>\n",
       "      <td>...</td>\n",
       "      <td>...</td>\n",
       "      <td>...</td>\n",
       "      <td>...</td>\n",
       "      <td>...</td>\n",
       "      <td>...</td>\n",
       "      <td>...</td>\n",
       "    </tr>\n",
       "    <tr>\n",
       "      <th>3662206</th>\n",
       "      <td>6362253</td>\n",
       "      <td>718</td>\n",
       "      <td>CASH_IN</td>\n",
       "      <td>188888.89</td>\n",
       "      <td>51838.0</td>\n",
       "      <td>0.00</td>\n",
       "      <td>0</td>\n",
       "    </tr>\n",
       "    <tr>\n",
       "      <th>3662207</th>\n",
       "      <td>6362271</td>\n",
       "      <td>718</td>\n",
       "      <td>CASH_IN</td>\n",
       "      <td>27919.60</td>\n",
       "      <td>2413.0</td>\n",
       "      <td>512791.59</td>\n",
       "      <td>0</td>\n",
       "    </tr>\n",
       "    <tr>\n",
       "      <th>3662208</th>\n",
       "      <td>6362279</td>\n",
       "      <td>718</td>\n",
       "      <td>CASH_IN</td>\n",
       "      <td>78988.38</td>\n",
       "      <td>204464.0</td>\n",
       "      <td>108724.19</td>\n",
       "      <td>0</td>\n",
       "    </tr>\n",
       "    <tr>\n",
       "      <th>3662209</th>\n",
       "      <td>6362298</td>\n",
       "      <td>718</td>\n",
       "      <td>CASH_IN</td>\n",
       "      <td>18000.26</td>\n",
       "      <td>63409.0</td>\n",
       "      <td>28088.61</td>\n",
       "      <td>0</td>\n",
       "    </tr>\n",
       "    <tr>\n",
       "      <th>3662210</th>\n",
       "      <td>6362315</td>\n",
       "      <td>718</td>\n",
       "      <td>CASH_IN</td>\n",
       "      <td>96239.74</td>\n",
       "      <td>101281.0</td>\n",
       "      <td>151109.37</td>\n",
       "      <td>0</td>\n",
       "    </tr>\n",
       "  </tbody>\n",
       "</table>\n",
       "<p>3662211 rows × 7 columns</p>\n",
       "</div>"
      ],
      "text/plain": [
       "           index  MonthlyHour     Type     Amount  SenderBalance  \\\n",
       "0        4272564          307  PAYMENT   18505.16         9141.0   \n",
       "1        2697361          211  PAYMENT     289.33         1697.0   \n",
       "2         982284           44  PAYMENT   11260.18       104701.0   \n",
       "3        2190099          185  PAYMENT    6479.49            0.0   \n",
       "4        5536099          381  PAYMENT    3397.28        41722.0   \n",
       "...          ...          ...      ...        ...            ...   \n",
       "3662206  6362253          718  CASH_IN  188888.89        51838.0   \n",
       "3662207  6362271          718  CASH_IN   27919.60         2413.0   \n",
       "3662208  6362279          718  CASH_IN   78988.38       204464.0   \n",
       "3662209  6362298          718  CASH_IN   18000.26        63409.0   \n",
       "3662210  6362315          718  CASH_IN   96239.74       101281.0   \n",
       "\n",
       "         ReceiverBalance  isFraud  \n",
       "0                   0.00        0  \n",
       "1                   0.00        0  \n",
       "2                   0.00        0  \n",
       "3                   0.00        0  \n",
       "4                   0.00        0  \n",
       "...                  ...      ...  \n",
       "3662206             0.00        0  \n",
       "3662207        512791.59        0  \n",
       "3662208        108724.19        0  \n",
       "3662209         28088.61        0  \n",
       "3662210        151109.37        0  \n",
       "\n",
       "[3662211 rows x 7 columns]"
      ]
     },
     "execution_count": 122,
     "metadata": {},
     "output_type": "execute_result"
    }
   ],
   "source": [
    "sampled_data"
   ]
  },
  {
   "cell_type": "code",
   "execution_count": 123,
   "metadata": {},
   "outputs": [
    {
     "data": {
      "text/plain": [
       "<Axes: xlabel='count', ylabel='Type'>"
      ]
     },
     "execution_count": 123,
     "metadata": {},
     "output_type": "execute_result"
    },
    {
     "data": {
      "image/png": "[encoded data removed]",
      "text/plain": [
       "<Figure size 640x480 with 1 Axes>"
      ]
     },
     "metadata": {},
     "output_type": "display_data"
    }
   ],
   "source": [
    "sns.countplot(sampled_data.Type)"
   ]
  },
  {
   "cell_type": "code",
   "execution_count": 120,
   "metadata": {},
   "outputs": [
    {
     "data": {
      "text/plain": [
       "(array([0], dtype=int64), array([3622211], dtype=int64))"
      ]
     },
     "execution_count": 120,
     "metadata": {},
     "output_type": "execute_result"
    }
   ],
   "source": [
    "np.unique(sampled_data.isFraud.values,return_counts=True)"
   ]
  },
  {
   "cell_type": "markdown",
   "metadata": {},
   "source": [
    "## Ensure sensitive information is deleted or protected"
   ]
  },
  {
   "cell_type": "markdown",
   "metadata": {},
   "source": [
    "Its a Synthetic data."
   ]
  },
  {
   "cell_type": "markdown",
   "metadata": {},
   "source": [
    "## Check the size and type of data"
   ]
  },
  {
   "cell_type": "markdown",
   "metadata": {},
   "source": [
    "Its a **time series** data cause each transaction is associated with a timestamp."
   ]
  },
  {
   "cell_type": "markdown",
   "metadata": {},
   "source": [
    "Contains **24 million** financial records."
   ]
  },
  {
   "cell_type": "markdown",
   "metadata": {},
   "source": [
    "## Sample a test set"
   ]
  },
  {
   "cell_type": "code",
   "execution_count": 19,
   "metadata": {},
   "outputs": [],
   "source": [
    "from sklearn.model_selection import train_test_split\n",
    "train_data,test_data = train_test_split(sampled_data,stratify=sampled_data.isFraud,test_size=0.1,random_state=42)"
   ]
  },
  {
   "cell_type": "code",
   "execution_count": 20,
   "metadata": {},
   "outputs": [],
   "source": [
    "train_data.to_csv(\"../data/train_data.csv\",index=False)\n",
    "test_data.to_csv(\"../data/test_data.csv\",index=False)"
   ]
  }
 ],
 "metadata": {
  "kernelspec": {
   "display_name": "Python 3.11",
   "language": "python",
   "name": "python311"
  },
  "language_info": {
   "codemirror_mode": {
    "name": "ipython",
    "version": 3
   },
   "file_extension": ".py",
   "mimetype": "text/x-python",
   "name": "python",
   "nbconvert_exporter": "python",
   "pygments_lexer": "ipython3",
   "version": "3.11.3"
  }
 },
 "nbformat": 4,
 "nbformat_minor": 4
}
